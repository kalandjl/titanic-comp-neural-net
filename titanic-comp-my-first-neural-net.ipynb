{
 "cells": [
  {
   "cell_type": "code",
   "execution_count": 1,
   "id": "abb25470",
   "metadata": {
    "_cell_guid": "b1076dfc-b9ad-4769-8c92-a6c4dae69d19",
    "_uuid": "8f2839f25d086af736a60e9eeb907d3b93b6e0e5",
    "execution": {
     "iopub.execute_input": "2025-06-04T03:02:59.128205Z",
     "iopub.status.busy": "2025-06-04T03:02:59.127885Z",
     "iopub.status.idle": "2025-06-04T03:03:02.104137Z",
     "shell.execute_reply": "2025-06-04T03:03:02.103072Z"
    },
    "papermill": {
     "duration": 2.982152,
     "end_time": "2025-06-04T03:03:02.106895",
     "exception": false,
     "start_time": "2025-06-04T03:02:59.124743",
     "status": "completed"
    },
    "tags": []
   },
   "outputs": [],
   "source": [
    "from fastai.imports import *\n",
    "np.set_printoptions(linewidth=130)\n",
    "\n",
    "import os\n",
    "iskaggle = os.environ.get('KAGGLE_KERNEL_RUN_TYPE', '')\n",
    "\n",
    "if iskaggle: path = Path('../input/heart-failure-prediction')\n",
    "else:\n",
    "    import zipfile,kaggle\n",
    "    path = Path('heart-failure-prediction')\n",
    "    kaggle.api.competition_download_cli(str(path))\n",
    "    zipfile.ZipFile(f'{path}.zip').extractall(path)"
   ]
  }
 ],
 "metadata": {
  "kaggle": {
   "accelerator": "none",
   "dataSources": [
    {
     "databundleVersionId": 26502,
     "sourceId": 3136,
     "sourceType": "competition"
    }
   ],
   "isGpuEnabled": false,
   "isInternetEnabled": true,
   "language": "python",
   "sourceType": "notebook"
  },
  "kernelspec": {
   "display_name": "Python 3",
   "language": "python",
   "name": "python3"
  },
  "language_info": {
   "codemirror_mode": {
    "name": "ipython",
    "version": 3
   },
   "file_extension": ".py",
   "mimetype": "text/x-python",
   "name": "python",
   "nbconvert_exporter": "python",
   "pygments_lexer": "ipython3",
   "version": "3.11.11"
  },
  "papermill": {
   "default_parameters": {},
   "duration": 8.874538,
   "end_time": "2025-06-04T03:03:02.729497",
   "environment_variables": {},
   "exception": null,
   "input_path": "__notebook__.ipynb",
   "output_path": "__notebook__.ipynb",
   "parameters": {},
   "start_time": "2025-06-04T03:02:53.854959",
   "version": "2.6.0"
  }
 },
 "nbformat": 4,
 "nbformat_minor": 5
}
