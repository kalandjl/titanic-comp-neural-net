{
 "cells": [
  {
   "cell_type": "code",
   "execution_count": 1,
   "id": "992b6a39",
   "metadata": {
    "_cell_guid": "b1076dfc-b9ad-4769-8c92-a6c4dae69d19",
    "_uuid": "8f2839f25d086af736a60e9eeb907d3b93b6e0e5",
    "execution": {
     "iopub.execute_input": "2025-06-04T05:08:42.567353Z",
     "iopub.status.busy": "2025-06-04T05:08:42.567119Z",
     "iopub.status.idle": "2025-06-04T05:08:42.573817Z",
     "shell.execute_reply": "2025-06-04T05:08:42.573300Z"
    },
    "papermill": {
     "duration": 0.015329,
     "end_time": "2025-06-04T05:08:42.574925",
     "exception": false,
     "start_time": "2025-06-04T05:08:42.559596",
     "status": "completed"
    },
    "tags": []
   },
   "outputs": [],
   "source": [
    "import os\n",
    "from pathlib import Path\n",
    "\n",
    "iskaggle = os.environ.get('KAGGLE_KERNEL_RUN_TYPE', '')\n",
    "if iskaggle: path = Path('../input/titanic')\n",
    "else:\n",
    "    path = Path('titanic')\n",
    "    if not path.exists():\n",
    "        import zipfile,kaggle\n",
    "        kaggle.api.competition_download_cli(str(path))\n",
    "        zipfile.ZipFile(f'{path}.zip').extractall(path)"
   ]
  },
  {
   "cell_type": "code",
   "execution_count": 2,
   "id": "aac33303",
   "metadata": {
    "execution": {
     "iopub.execute_input": "2025-06-04T05:08:42.587412Z",
     "iopub.status.busy": "2025-06-04T05:08:42.586821Z",
     "iopub.status.idle": "2025-06-04T05:08:48.109311Z",
     "shell.execute_reply": "2025-06-04T05:08:48.108716Z"
    },
    "papermill": {
     "duration": 5.529797,
     "end_time": "2025-06-04T05:08:48.110607",
     "exception": false,
     "start_time": "2025-06-04T05:08:42.580810",
     "status": "completed"
    },
    "tags": []
   },
   "outputs": [],
   "source": [
    "import torch, numpy as np, pandas as pd\n",
    "np.set_printoptions(linewidth=140)\n",
    "torch.set_printoptions(linewidth=140, sci_mode=False, edgeitems=7)\n",
    "pd.set_option('display.width', 140)"
   ]
  },
  {
   "cell_type": "code",
   "execution_count": 3,
   "id": "79a8ff9d",
   "metadata": {
    "execution": {
     "iopub.execute_input": "2025-06-04T05:08:48.123126Z",
     "iopub.status.busy": "2025-06-04T05:08:48.122780Z",
     "iopub.status.idle": "2025-06-04T05:08:48.158401Z",
     "shell.execute_reply": "2025-06-04T05:08:48.157700Z"
    },
    "papermill": {
     "duration": 0.042984,
     "end_time": "2025-06-04T05:08:48.159540",
     "exception": false,
     "start_time": "2025-06-04T05:08:48.116556",
     "status": "completed"
    },
    "tags": []
   },
   "outputs": [
    {
     "data": {
      "text/html": [
       "<div>\n",
       "<style scoped>\n",
       "    .dataframe tbody tr th:only-of-type {\n",
       "        vertical-align: middle;\n",
       "    }\n",
       "\n",
       "    .dataframe tbody tr th {\n",
       "        vertical-align: top;\n",
       "    }\n",
       "\n",
       "    .dataframe thead th {\n",
       "        text-align: right;\n",
       "    }\n",
       "</style>\n",
       "<table border=\"1\" class=\"dataframe\">\n",
       "  <thead>\n",
       "    <tr style=\"text-align: right;\">\n",
       "      <th></th>\n",
       "      <th>PassengerId</th>\n",
       "      <th>Survived</th>\n",
       "      <th>Pclass</th>\n",
       "      <th>Name</th>\n",
       "      <th>Sex</th>\n",
       "      <th>Age</th>\n",
       "      <th>SibSp</th>\n",
       "      <th>Parch</th>\n",
       "      <th>Ticket</th>\n",
       "      <th>Fare</th>\n",
       "      <th>Cabin</th>\n",
       "      <th>Embarked</th>\n",
       "    </tr>\n",
       "  </thead>\n",
       "  <tbody>\n",
       "    <tr>\n",
       "      <th>0</th>\n",
       "      <td>1</td>\n",
       "      <td>0</td>\n",
       "      <td>3</td>\n",
       "      <td>Braund, Mr. Owen Harris</td>\n",
       "      <td>male</td>\n",
       "      <td>22.0</td>\n",
       "      <td>1</td>\n",
       "      <td>0</td>\n",
       "      <td>A/5 21171</td>\n",
       "      <td>7.2500</td>\n",
       "      <td>NaN</td>\n",
       "      <td>S</td>\n",
       "    </tr>\n",
       "    <tr>\n",
       "      <th>1</th>\n",
       "      <td>2</td>\n",
       "      <td>1</td>\n",
       "      <td>1</td>\n",
       "      <td>Cumings, Mrs. John Bradley (Florence Briggs Th...</td>\n",
       "      <td>female</td>\n",
       "      <td>38.0</td>\n",
       "      <td>1</td>\n",
       "      <td>0</td>\n",
       "      <td>PC 17599</td>\n",
       "      <td>71.2833</td>\n",
       "      <td>C85</td>\n",
       "      <td>C</td>\n",
       "    </tr>\n",
       "    <tr>\n",
       "      <th>2</th>\n",
       "      <td>3</td>\n",
       "      <td>1</td>\n",
       "      <td>3</td>\n",
       "      <td>Heikkinen, Miss. Laina</td>\n",
       "      <td>female</td>\n",
       "      <td>26.0</td>\n",
       "      <td>0</td>\n",
       "      <td>0</td>\n",
       "      <td>STON/O2. 3101282</td>\n",
       "      <td>7.9250</td>\n",
       "      <td>NaN</td>\n",
       "      <td>S</td>\n",
       "    </tr>\n",
       "    <tr>\n",
       "      <th>3</th>\n",
       "      <td>4</td>\n",
       "      <td>1</td>\n",
       "      <td>1</td>\n",
       "      <td>Futrelle, Mrs. Jacques Heath (Lily May Peel)</td>\n",
       "      <td>female</td>\n",
       "      <td>35.0</td>\n",
       "      <td>1</td>\n",
       "      <td>0</td>\n",
       "      <td>113803</td>\n",
       "      <td>53.1000</td>\n",
       "      <td>C123</td>\n",
       "      <td>S</td>\n",
       "    </tr>\n",
       "    <tr>\n",
       "      <th>4</th>\n",
       "      <td>5</td>\n",
       "      <td>0</td>\n",
       "      <td>3</td>\n",
       "      <td>Allen, Mr. William Henry</td>\n",
       "      <td>male</td>\n",
       "      <td>35.0</td>\n",
       "      <td>0</td>\n",
       "      <td>0</td>\n",
       "      <td>373450</td>\n",
       "      <td>8.0500</td>\n",
       "      <td>NaN</td>\n",
       "      <td>S</td>\n",
       "    </tr>\n",
       "  </tbody>\n",
       "</table>\n",
       "</div>"
      ],
      "text/plain": [
       "   PassengerId  Survived  Pclass                                               Name     Sex   Age  SibSp  Parch            Ticket  \\\n",
       "0            1         0       3                            Braund, Mr. Owen Harris    male  22.0      1      0         A/5 21171   \n",
       "1            2         1       1  Cumings, Mrs. John Bradley (Florence Briggs Th...  female  38.0      1      0          PC 17599   \n",
       "2            3         1       3                             Heikkinen, Miss. Laina  female  26.0      0      0  STON/O2. 3101282   \n",
       "3            4         1       1       Futrelle, Mrs. Jacques Heath (Lily May Peel)  female  35.0      1      0            113803   \n",
       "4            5         0       3                           Allen, Mr. William Henry    male  35.0      0      0            373450   \n",
       "\n",
       "      Fare Cabin Embarked  \n",
       "0   7.2500   NaN        S  \n",
       "1  71.2833   C85        C  \n",
       "2   7.9250   NaN        S  \n",
       "3  53.1000  C123        S  \n",
       "4   8.0500   NaN        S  "
      ]
     },
     "execution_count": 3,
     "metadata": {},
     "output_type": "execute_result"
    }
   ],
   "source": [
    "df = pd.read_csv(path/'train.csv')\n",
    "df.head()"
   ]
  },
  {
   "cell_type": "markdown",
   "id": "1aff1078",
   "metadata": {
    "papermill": {
     "duration": 0.005614,
     "end_time": "2025-06-04T05:08:48.171128",
     "exception": false,
     "start_time": "2025-06-04T05:08:48.165514",
     "status": "completed"
    },
    "tags": []
   },
   "source": [
    "Replace NAN values with the column's mean value"
   ]
  },
  {
   "cell_type": "code",
   "execution_count": 4,
   "id": "e2a1a8f8",
   "metadata": {
    "execution": {
     "iopub.execute_input": "2025-06-04T05:08:48.183773Z",
     "iopub.status.busy": "2025-06-04T05:08:48.183543Z",
     "iopub.status.idle": "2025-06-04T05:08:48.209126Z",
     "shell.execute_reply": "2025-06-04T05:08:48.208563Z"
    },
    "papermill": {
     "duration": 0.033369,
     "end_time": "2025-06-04T05:08:48.210116",
     "exception": false,
     "start_time": "2025-06-04T05:08:48.176747",
     "status": "completed"
    },
    "tags": []
   },
   "outputs": [
    {
     "data": {
      "text/plain": [
       "PassengerId    0\n",
       "Survived       0\n",
       "Pclass         0\n",
       "Name           0\n",
       "Sex            0\n",
       "Age            0\n",
       "SibSp          0\n",
       "Parch          0\n",
       "Ticket         0\n",
       "Fare           0\n",
       "Cabin          0\n",
       "Embarked       0\n",
       "dtype: int64"
      ]
     },
     "execution_count": 4,
     "metadata": {},
     "output_type": "execute_result"
    }
   ],
   "source": [
    "modes = df.mode().iloc[0]\n",
    "df.fillna(modes, inplace=True)\n",
    "\n",
    "df.isna().sum()"
   ]
  },
  {
   "cell_type": "code",
   "execution_count": 5,
   "id": "21225d21",
   "metadata": {
    "execution": {
     "iopub.execute_input": "2025-06-04T05:08:48.222268Z",
     "iopub.status.busy": "2025-06-04T05:08:48.222019Z",
     "iopub.status.idle": "2025-06-04T05:08:48.242356Z",
     "shell.execute_reply": "2025-06-04T05:08:48.241806Z"
    },
    "papermill": {
     "duration": 0.027627,
     "end_time": "2025-06-04T05:08:48.243422",
     "exception": false,
     "start_time": "2025-06-04T05:08:48.215795",
     "status": "completed"
    },
    "tags": []
   },
   "outputs": [
    {
     "data": {
      "text/html": [
       "<div>\n",
       "<style scoped>\n",
       "    .dataframe tbody tr th:only-of-type {\n",
       "        vertical-align: middle;\n",
       "    }\n",
       "\n",
       "    .dataframe tbody tr th {\n",
       "        vertical-align: top;\n",
       "    }\n",
       "\n",
       "    .dataframe thead th {\n",
       "        text-align: right;\n",
       "    }\n",
       "</style>\n",
       "<table border=\"1\" class=\"dataframe\">\n",
       "  <thead>\n",
       "    <tr style=\"text-align: right;\">\n",
       "      <th></th>\n",
       "      <th>PassengerId</th>\n",
       "      <th>Survived</th>\n",
       "      <th>Pclass</th>\n",
       "      <th>Age</th>\n",
       "      <th>SibSp</th>\n",
       "      <th>Parch</th>\n",
       "      <th>Fare</th>\n",
       "    </tr>\n",
       "  </thead>\n",
       "  <tbody>\n",
       "    <tr>\n",
       "      <th>count</th>\n",
       "      <td>891.000000</td>\n",
       "      <td>891.000000</td>\n",
       "      <td>891.000000</td>\n",
       "      <td>891.000000</td>\n",
       "      <td>891.000000</td>\n",
       "      <td>891.000000</td>\n",
       "      <td>891.000000</td>\n",
       "    </tr>\n",
       "    <tr>\n",
       "      <th>mean</th>\n",
       "      <td>446.000000</td>\n",
       "      <td>0.383838</td>\n",
       "      <td>2.308642</td>\n",
       "      <td>28.566970</td>\n",
       "      <td>0.523008</td>\n",
       "      <td>0.381594</td>\n",
       "      <td>32.204208</td>\n",
       "    </tr>\n",
       "    <tr>\n",
       "      <th>std</th>\n",
       "      <td>257.353842</td>\n",
       "      <td>0.486592</td>\n",
       "      <td>0.836071</td>\n",
       "      <td>13.199572</td>\n",
       "      <td>1.102743</td>\n",
       "      <td>0.806057</td>\n",
       "      <td>49.693429</td>\n",
       "    </tr>\n",
       "    <tr>\n",
       "      <th>min</th>\n",
       "      <td>1.000000</td>\n",
       "      <td>0.000000</td>\n",
       "      <td>1.000000</td>\n",
       "      <td>0.420000</td>\n",
       "      <td>0.000000</td>\n",
       "      <td>0.000000</td>\n",
       "      <td>0.000000</td>\n",
       "    </tr>\n",
       "    <tr>\n",
       "      <th>25%</th>\n",
       "      <td>223.500000</td>\n",
       "      <td>0.000000</td>\n",
       "      <td>2.000000</td>\n",
       "      <td>22.000000</td>\n",
       "      <td>0.000000</td>\n",
       "      <td>0.000000</td>\n",
       "      <td>7.910400</td>\n",
       "    </tr>\n",
       "    <tr>\n",
       "      <th>50%</th>\n",
       "      <td>446.000000</td>\n",
       "      <td>0.000000</td>\n",
       "      <td>3.000000</td>\n",
       "      <td>24.000000</td>\n",
       "      <td>0.000000</td>\n",
       "      <td>0.000000</td>\n",
       "      <td>14.454200</td>\n",
       "    </tr>\n",
       "    <tr>\n",
       "      <th>75%</th>\n",
       "      <td>668.500000</td>\n",
       "      <td>1.000000</td>\n",
       "      <td>3.000000</td>\n",
       "      <td>35.000000</td>\n",
       "      <td>1.000000</td>\n",
       "      <td>0.000000</td>\n",
       "      <td>31.000000</td>\n",
       "    </tr>\n",
       "    <tr>\n",
       "      <th>max</th>\n",
       "      <td>891.000000</td>\n",
       "      <td>1.000000</td>\n",
       "      <td>3.000000</td>\n",
       "      <td>80.000000</td>\n",
       "      <td>8.000000</td>\n",
       "      <td>6.000000</td>\n",
       "      <td>512.329200</td>\n",
       "    </tr>\n",
       "  </tbody>\n",
       "</table>\n",
       "</div>"
      ],
      "text/plain": [
       "       PassengerId    Survived      Pclass         Age       SibSp       Parch        Fare\n",
       "count   891.000000  891.000000  891.000000  891.000000  891.000000  891.000000  891.000000\n",
       "mean    446.000000    0.383838    2.308642   28.566970    0.523008    0.381594   32.204208\n",
       "std     257.353842    0.486592    0.836071   13.199572    1.102743    0.806057   49.693429\n",
       "min       1.000000    0.000000    1.000000    0.420000    0.000000    0.000000    0.000000\n",
       "25%     223.500000    0.000000    2.000000   22.000000    0.000000    0.000000    7.910400\n",
       "50%     446.000000    0.000000    3.000000   24.000000    0.000000    0.000000   14.454200\n",
       "75%     668.500000    1.000000    3.000000   35.000000    1.000000    0.000000   31.000000\n",
       "max     891.000000    1.000000    3.000000   80.000000    8.000000    6.000000  512.329200"
      ]
     },
     "execution_count": 5,
     "metadata": {},
     "output_type": "execute_result"
    }
   ],
   "source": [
    "import numpy as np\n",
    "\n",
    "df.describe(include=(np.number))"
   ]
  },
  {
   "cell_type": "markdown",
   "id": "238f4d92",
   "metadata": {
    "papermill": {
     "duration": 0.005635,
     "end_time": "2025-06-04T05:08:48.255001",
     "exception": false,
     "start_time": "2025-06-04T05:08:48.249366",
     "status": "completed"
    },
    "tags": []
   },
   "source": [
    "We can see that while fare has a mean of 32.2, it has some particularily large values. To avoid these values from dominating during matrix multiplication, we can take the logarithm of all fares. This makes the distribution more even."
   ]
  },
  {
   "cell_type": "code",
   "execution_count": 6,
   "id": "bf66fd0e",
   "metadata": {
    "execution": {
     "iopub.execute_input": "2025-06-04T05:08:48.267510Z",
     "iopub.status.busy": "2025-06-04T05:08:48.266980Z",
     "iopub.status.idle": "2025-06-04T05:08:48.543646Z",
     "shell.execute_reply": "2025-06-04T05:08:48.543024Z"
    },
    "papermill": {
     "duration": 0.284044,
     "end_time": "2025-06-04T05:08:48.544784",
     "exception": false,
     "start_time": "2025-06-04T05:08:48.260740",
     "status": "completed"
    },
    "tags": []
   },
   "outputs": [
    {
     "data": {
      "image/png": "[encoded data removed]",
      "text/plain": [
       "<Figure size 640x480 with 1 Axes>"
      ]
     },
     "metadata": {},
     "output_type": "display_data"
    }
   ],
   "source": [
    "df['Fare'].hist();"
   ]
  },
  {
   "cell_type": "code",
   "execution_count": 7,
   "id": "e8720d07",
   "metadata": {
    "execution": {
     "iopub.execute_input": "2025-06-04T05:08:48.558301Z",
     "iopub.status.busy": "2025-06-04T05:08:48.558074Z",
     "iopub.status.idle": "2025-06-04T05:08:48.708543Z",
     "shell.execute_reply": "2025-06-04T05:08:48.707883Z"
    },
    "papermill": {
     "duration": 0.158347,
     "end_time": "2025-06-04T05:08:48.709734",
     "exception": false,
     "start_time": "2025-06-04T05:08:48.551387",
     "status": "completed"
    },
    "tags": []
   },
   "outputs": [
    {
     "data": {
      "image/png": "[encoded data removed]",
      "text/plain": [
       "<Figure size 640x480 with 1 Axes>"
      ]
     },
     "metadata": {},
     "output_type": "display_data"
    }
   ],
   "source": [
    "df['LogFare'] = np.log(df['Fare']+1)\n",
    "df['LogFare'].hist();"
   ]
  },
  {
   "cell_type": "code",
   "execution_count": 8,
   "id": "5a01b318",
   "metadata": {
    "execution": {
     "iopub.execute_input": "2025-06-04T05:08:48.724187Z",
     "iopub.status.busy": "2025-06-04T05:08:48.723936Z",
     "iopub.status.idle": "2025-06-04T05:08:48.736181Z",
     "shell.execute_reply": "2025-06-04T05:08:48.735627Z"
    },
    "papermill": {
     "duration": 0.020636,
     "end_time": "2025-06-04T05:08:48.737274",
     "exception": false,
     "start_time": "2025-06-04T05:08:48.716638",
     "status": "completed"
    },
    "tags": []
   },
   "outputs": [
    {
     "data": {
      "text/plain": [
       "Index(['PassengerId', 'Survived', 'Name', 'Age', 'SibSp', 'Parch', 'Ticket', 'Fare', 'Cabin', 'LogFare', 'Sex_female', 'Sex_male',\n",
       "       'Pclass_1', 'Pclass_2', 'Pclass_3', 'Embarked_C', 'Embarked_Q', 'Embarked_S'],\n",
       "      dtype='object')"
      ]
     },
     "execution_count": 8,
     "metadata": {},
     "output_type": "execute_result"
    }
   ],
   "source": [
    "df = pd.get_dummies(df, columns=[\"Sex\",\"Pclass\",\"Embarked\"])\n",
    "df.columns"
   ]
  },
  {
   "cell_type": "code",
   "execution_count": 9,
   "id": "fe9b302e",
   "metadata": {
    "execution": {
     "iopub.execute_input": "2025-06-04T05:08:48.751426Z",
     "iopub.status.busy": "2025-06-04T05:08:48.751225Z",
     "iopub.status.idle": "2025-06-04T05:08:48.761414Z",
     "shell.execute_reply": "2025-06-04T05:08:48.760745Z"
    },
    "papermill": {
     "duration": 0.018297,
     "end_time": "2025-06-04T05:08:48.762502",
     "exception": false,
     "start_time": "2025-06-04T05:08:48.744205",
     "status": "completed"
    },
    "tags": []
   },
   "outputs": [
    {
     "data": {
      "text/html": [
       "<div>\n",
       "<style scoped>\n",
       "    .dataframe tbody tr th:only-of-type {\n",
       "        vertical-align: middle;\n",
       "    }\n",
       "\n",
       "    .dataframe tbody tr th {\n",
       "        vertical-align: top;\n",
       "    }\n",
       "\n",
       "    .dataframe thead th {\n",
       "        text-align: right;\n",
       "    }\n",
       "</style>\n",
       "<table border=\"1\" class=\"dataframe\">\n",
       "  <thead>\n",
       "    <tr style=\"text-align: right;\">\n",
       "      <th></th>\n",
       "      <th>Sex_male</th>\n",
       "      <th>Sex_female</th>\n",
       "      <th>Pclass_1</th>\n",
       "      <th>Pclass_2</th>\n",
       "      <th>Pclass_3</th>\n",
       "      <th>Embarked_C</th>\n",
       "      <th>Embarked_Q</th>\n",
       "      <th>Embarked_S</th>\n",
       "    </tr>\n",
       "  </thead>\n",
       "  <tbody>\n",
       "    <tr>\n",
       "      <th>0</th>\n",
       "      <td>True</td>\n",
       "      <td>False</td>\n",
       "      <td>False</td>\n",
       "      <td>False</td>\n",
       "      <td>True</td>\n",
       "      <td>False</td>\n",
       "      <td>False</td>\n",
       "      <td>True</td>\n",
       "    </tr>\n",
       "    <tr>\n",
       "      <th>1</th>\n",
       "      <td>False</td>\n",
       "      <td>True</td>\n",
       "      <td>True</td>\n",
       "      <td>False</td>\n",
       "      <td>False</td>\n",
       "      <td>True</td>\n",
       "      <td>False</td>\n",
       "      <td>False</td>\n",
       "    </tr>\n",
       "    <tr>\n",
       "      <th>2</th>\n",
       "      <td>False</td>\n",
       "      <td>True</td>\n",
       "      <td>False</td>\n",
       "      <td>False</td>\n",
       "      <td>True</td>\n",
       "      <td>False</td>\n",
       "      <td>False</td>\n",
       "      <td>True</td>\n",
       "    </tr>\n",
       "    <tr>\n",
       "      <th>3</th>\n",
       "      <td>False</td>\n",
       "      <td>True</td>\n",
       "      <td>True</td>\n",
       "      <td>False</td>\n",
       "      <td>False</td>\n",
       "      <td>False</td>\n",
       "      <td>False</td>\n",
       "      <td>True</td>\n",
       "    </tr>\n",
       "    <tr>\n",
       "      <th>4</th>\n",
       "      <td>True</td>\n",
       "      <td>False</td>\n",
       "      <td>False</td>\n",
       "      <td>False</td>\n",
       "      <td>True</td>\n",
       "      <td>False</td>\n",
       "      <td>False</td>\n",
       "      <td>True</td>\n",
       "    </tr>\n",
       "  </tbody>\n",
       "</table>\n",
       "</div>"
      ],
      "text/plain": [
       "   Sex_male  Sex_female  Pclass_1  Pclass_2  Pclass_3  Embarked_C  Embarked_Q  Embarked_S\n",
       "0      True       False     False     False      True       False       False        True\n",
       "1     False        True      True     False     False        True       False       False\n",
       "2     False        True     False     False      True       False       False        True\n",
       "3     False        True      True     False     False       False       False        True\n",
       "4      True       False     False     False      True       False       False        True"
      ]
     },
     "execution_count": 9,
     "metadata": {},
     "output_type": "execute_result"
    }
   ],
   "source": [
    "added_cols = ['Sex_male', 'Sex_female', 'Pclass_1', 'Pclass_2', 'Pclass_3', 'Embarked_C', 'Embarked_Q', 'Embarked_S']\n",
    "df[added_cols].head()"
   ]
  },
  {
   "cell_type": "code",
   "execution_count": 10,
   "id": "dae207fe",
   "metadata": {
    "execution": {
     "iopub.execute_input": "2025-06-04T05:08:48.776251Z",
     "iopub.status.busy": "2025-06-04T05:08:48.776012Z",
     "iopub.status.idle": "2025-06-04T05:08:48.791746Z",
     "shell.execute_reply": "2025-06-04T05:08:48.791089Z"
    },
    "papermill": {
     "duration": 0.023777,
     "end_time": "2025-06-04T05:08:48.792799",
     "exception": false,
     "start_time": "2025-06-04T05:08:48.769022",
     "status": "completed"
    },
    "tags": []
   },
   "outputs": [],
   "source": [
    "from torch import tensor\n",
    "\n",
    "t_dep = tensor(df.Survived)"
   ]
  },
  {
   "cell_type": "code",
   "execution_count": 11,
   "id": "07ff007f",
   "metadata": {
    "execution": {
     "iopub.execute_input": "2025-06-04T05:08:48.806870Z",
     "iopub.status.busy": "2025-06-04T05:08:48.806670Z",
     "iopub.status.idle": "2025-06-04T05:08:48.884446Z",
     "shell.execute_reply": "2025-06-04T05:08:48.883811Z"
    },
    "papermill": {
     "duration": 0.08629,
     "end_time": "2025-06-04T05:08:48.885616",
     "exception": false,
     "start_time": "2025-06-04T05:08:48.799326",
     "status": "completed"
    },
    "tags": []
   },
   "outputs": [
    {
     "data": {
      "text/plain": [
       "tensor([[22.0000,  1.0000,  0.0000,  2.1102,  1.0000,  0.0000,  0.0000,  0.0000,  1.0000,  0.0000,  0.0000,  1.0000],\n",
       "        [38.0000,  1.0000,  0.0000,  4.2806,  0.0000,  1.0000,  1.0000,  0.0000,  0.0000,  1.0000,  0.0000,  0.0000],\n",
       "        [26.0000,  0.0000,  0.0000,  2.1889,  0.0000,  1.0000,  0.0000,  0.0000,  1.0000,  0.0000,  0.0000,  1.0000],\n",
       "        [35.0000,  1.0000,  0.0000,  3.9908,  0.0000,  1.0000,  1.0000,  0.0000,  0.0000,  0.0000,  0.0000,  1.0000],\n",
       "        [35.0000,  0.0000,  0.0000,  2.2028,  1.0000,  0.0000,  0.0000,  0.0000,  1.0000,  0.0000,  0.0000,  1.0000],\n",
       "        [24.0000,  0.0000,  0.0000,  2.2469,  1.0000,  0.0000,  0.0000,  0.0000,  1.0000,  0.0000,  1.0000,  0.0000],\n",
       "        [54.0000,  0.0000,  0.0000,  3.9677,  1.0000,  0.0000,  1.0000,  0.0000,  0.0000,  0.0000,  0.0000,  1.0000],\n",
       "        ...,\n",
       "        [25.0000,  0.0000,  0.0000,  2.0857,  1.0000,  0.0000,  0.0000,  0.0000,  1.0000,  0.0000,  0.0000,  1.0000],\n",
       "        [39.0000,  0.0000,  5.0000,  3.4054,  0.0000,  1.0000,  0.0000,  0.0000,  1.0000,  0.0000,  1.0000,  0.0000],\n",
       "        [27.0000,  0.0000,  0.0000,  2.6391,  1.0000,  0.0000,  0.0000,  1.0000,  0.0000,  0.0000,  0.0000,  1.0000],\n",
       "        [19.0000,  0.0000,  0.0000,  3.4340,  0.0000,  1.0000,  1.0000,  0.0000,  0.0000,  0.0000,  0.0000,  1.0000],\n",
       "        [24.0000,  1.0000,  2.0000,  3.1966,  0.0000,  1.0000,  0.0000,  0.0000,  1.0000,  0.0000,  0.0000,  1.0000],\n",
       "        [26.0000,  0.0000,  0.0000,  3.4340,  1.0000,  0.0000,  1.0000,  0.0000,  0.0000,  1.0000,  0.0000,  0.0000],\n",
       "        [32.0000,  0.0000,  0.0000,  2.1691,  1.0000,  0.0000,  0.0000,  0.0000,  1.0000,  0.0000,  1.0000,  0.0000]])"
      ]
     },
     "execution_count": 11,
     "metadata": {},
     "output_type": "execute_result"
    }
   ],
   "source": [
    "indep_cols = ['Age', 'SibSp', 'Parch', 'LogFare'] + added_cols\n",
    "\n",
    "df[indep_cols] = df[indep_cols].astype({col: 'int' for col in df[indep_cols].select_dtypes('bool').columns})\n",
    "\n",
    "t_indep = tensor(df[indep_cols].values, dtype=torch.float)\n",
    "t_indep"
   ]
  },
  {
   "cell_type": "markdown",
   "id": "ab4fc6fd",
   "metadata": {
    "papermill": {
     "duration": 0.006377,
     "end_time": "2025-06-04T05:08:48.898833",
     "exception": false,
     "start_time": "2025-06-04T05:08:48.892456",
     "status": "completed"
    },
    "tags": []
   },
   "source": [
    "Create coefficients for every column in t_indep"
   ]
  },
  {
   "cell_type": "code",
   "execution_count": 12,
   "id": "06b5d585",
   "metadata": {
    "execution": {
     "iopub.execute_input": "2025-06-04T05:08:48.913202Z",
     "iopub.status.busy": "2025-06-04T05:08:48.912488Z",
     "iopub.status.idle": "2025-06-04T05:08:48.925125Z",
     "shell.execute_reply": "2025-06-04T05:08:48.924548Z"
    },
    "papermill": {
     "duration": 0.020874,
     "end_time": "2025-06-04T05:08:48.926147",
     "exception": false,
     "start_time": "2025-06-04T05:08:48.905273",
     "status": "completed"
    },
    "tags": []
   },
   "outputs": [
    {
     "data": {
      "text/plain": [
       "tensor([-0.4629,  0.1386,  0.2409, -0.2262, -0.2632, -0.3147,  0.4876,  0.3136,  0.2799, -0.4392,  0.2103,  0.3625])"
      ]
     },
     "execution_count": 12,
     "metadata": {},
     "output_type": "execute_result"
    }
   ],
   "source": [
    "torch.manual_seed(442)\n",
    "\n",
    "n_coeff = t_indep.shape[1]\n",
    "coeffs = torch.rand(n_coeff)-0.5\n",
    "coeffs"
   ]
  },
  {
   "cell_type": "markdown",
   "id": "1b87a602",
   "metadata": {
    "papermill": {
     "duration": 0.006616,
     "end_time": "2025-06-04T05:08:48.939376",
     "exception": false,
     "start_time": "2025-06-04T05:08:48.932760",
     "status": "completed"
    },
    "tags": []
   },
   "source": [
    "Convert all data into integer between 0 and 1 by divided by the column's maximum"
   ]
  },
  {
   "cell_type": "code",
   "execution_count": 13,
   "id": "6e2b2b06",
   "metadata": {
    "execution": {
     "iopub.execute_input": "2025-06-04T05:08:48.953983Z",
     "iopub.status.busy": "2025-06-04T05:08:48.953598Z",
     "iopub.status.idle": "2025-06-04T05:08:48.960229Z",
     "shell.execute_reply": "2025-06-04T05:08:48.959560Z"
    },
    "papermill": {
     "duration": 0.014992,
     "end_time": "2025-06-04T05:08:48.961367",
     "exception": false,
     "start_time": "2025-06-04T05:08:48.946375",
     "status": "completed"
    },
    "tags": []
   },
   "outputs": [],
   "source": [
    "vals,indices = t_indep.max(dim=0)\n",
    "t_indep = t_indep / vals"
   ]
  },
  {
   "cell_type": "markdown",
   "id": "775ad42d",
   "metadata": {
    "papermill": {
     "duration": 0.006656,
     "end_time": "2025-06-04T05:08:49.022396",
     "exception": false,
     "start_time": "2025-06-04T05:08:49.015740",
     "status": "completed"
    },
    "tags": []
   },
   "source": [
    "Find predictions & calculate loss."
   ]
  },
  {
   "cell_type": "code",
   "execution_count": 14,
   "id": "19b72f9f",
   "metadata": {
    "execution": {
     "iopub.execute_input": "2025-06-04T05:08:49.037089Z",
     "iopub.status.busy": "2025-06-04T05:08:49.036405Z",
     "iopub.status.idle": "2025-06-04T05:08:49.047373Z",
     "shell.execute_reply": "2025-06-04T05:08:49.046706Z"
    },
    "papermill": {
     "duration": 0.019542,
     "end_time": "2025-06-04T05:08:49.048548",
     "exception": false,
     "start_time": "2025-06-04T05:08:49.029006",
     "status": "completed"
    },
    "tags": []
   },
   "outputs": [
    {
     "name": "stdout",
     "output_type": "stream",
     "text": [
      "tensor(5.6169, grad_fn=<MeanBackward0>)\n"
     ]
    }
   ],
   "source": [
    "coeffs.requires_grad_()\n",
    "\n",
    "def calc_preds(coeffs, indeps): return torch.sigmoid(indeps*coeffs).sum(axis=1)\n",
    "def calc_loss(coeffs, indeps, deps): return torch.abs(calc_preds(coeffs, indeps)-deps).mean()\n",
    "\n",
    "loss = calc_loss(coeffs, t_indep, t_dep)\n",
    "print(loss)"
   ]
  },
  {
   "cell_type": "markdown",
   "id": "9c13f72c",
   "metadata": {
    "papermill": {
     "duration": 0.006892,
     "end_time": "2025-06-04T05:08:49.062280",
     "exception": false,
     "start_time": "2025-06-04T05:08:49.055388",
     "status": "completed"
    },
    "tags": []
   },
   "source": [
    "Now, let's perform gradient descent to improve the linear model."
   ]
  },
  {
   "cell_type": "code",
   "execution_count": 15,
   "id": "40f664db",
   "metadata": {
    "execution": {
     "iopub.execute_input": "2025-06-04T05:08:49.076958Z",
     "iopub.status.busy": "2025-06-04T05:08:49.076574Z",
     "iopub.status.idle": "2025-06-04T05:08:49.149396Z",
     "shell.execute_reply": "2025-06-04T05:08:49.148513Z"
    },
    "papermill": {
     "duration": 0.081215,
     "end_time": "2025-06-04T05:08:49.150609",
     "exception": false,
     "start_time": "2025-06-04T05:08:49.069394",
     "status": "completed"
    },
    "tags": []
   },
   "outputs": [
    {
     "name": "stdout",
     "output_type": "stream",
     "text": [
      "tensor(5.6057)\n"
     ]
    }
   ],
   "source": [
    "loss = calc_loss(coeffs, t_indep, t_dep)\n",
    "loss.backward()\n",
    "with torch.no_grad():\n",
    "    coeffs.sub_(coeffs.grad * 0.1)\n",
    "    coeffs.grad.zero_()\n",
    "    print(calc_loss(coeffs, t_indep, t_dep))"
   ]
  },
  {
   "cell_type": "markdown",
   "id": "afd897df",
   "metadata": {
    "papermill": {
     "duration": 0.006704,
     "end_time": "2025-06-04T05:08:49.164550",
     "exception": false,
     "start_time": "2025-06-04T05:08:49.157846",
     "status": "completed"
    },
    "tags": []
   },
   "source": [
    "Time to train the model; first, we must split the data into respective training and validation sets"
   ]
  },
  {
   "cell_type": "code",
   "execution_count": 16,
   "id": "f4f02b20",
   "metadata": {
    "execution": {
     "iopub.execute_input": "2025-06-04T05:08:49.178685Z",
     "iopub.status.busy": "2025-06-04T05:08:49.178487Z",
     "iopub.status.idle": "2025-06-04T05:08:50.989451Z",
     "shell.execute_reply": "2025-06-04T05:08:50.988609Z"
    },
    "papermill": {
     "duration": 1.819784,
     "end_time": "2025-06-04T05:08:50.991032",
     "exception": false,
     "start_time": "2025-06-04T05:08:49.171248",
     "status": "completed"
    },
    "tags": []
   },
   "outputs": [],
   "source": [
    "from fastai.data.transforms import RandomSplitter\n",
    "trn_split,val_split=RandomSplitter(seed=42)(df)\n",
    "trn_indep,val_indep = t_indep[trn_split],t_indep[val_split]\n",
    "trn_dep,val_dep = t_dep[trn_split],t_dep[val_split]"
   ]
  },
  {
   "cell_type": "markdown",
   "id": "764f935b",
   "metadata": {
    "papermill": {
     "duration": 0.006727,
     "end_time": "2025-06-04T05:08:51.007009",
     "exception": false,
     "start_time": "2025-06-04T05:08:51.000282",
     "status": "completed"
    },
    "tags": []
   },
   "source": [
    "First, create update_coeffs, one_epoch and init_coeffs function"
   ]
  },
  {
   "cell_type": "code",
   "execution_count": 17,
   "id": "d898a751",
   "metadata": {
    "execution": {
     "iopub.execute_input": "2025-06-04T05:08:51.021884Z",
     "iopub.status.busy": "2025-06-04T05:08:51.021048Z",
     "iopub.status.idle": "2025-06-04T05:08:51.024908Z",
     "shell.execute_reply": "2025-06-04T05:08:51.024231Z"
    },
    "papermill": {
     "duration": 0.012294,
     "end_time": "2025-06-04T05:08:51.026000",
     "exception": false,
     "start_time": "2025-06-04T05:08:51.013706",
     "status": "completed"
    },
    "tags": []
   },
   "outputs": [],
   "source": [
    "def update_coeffs(coeffs, lr):\n",
    "    coeffs.sub_(coeffs.grad * lr)\n",
    "    coeffs.grad.zero_()"
   ]
  },
  {
   "cell_type": "code",
   "execution_count": 18,
   "id": "849ef37b",
   "metadata": {
    "execution": {
     "iopub.execute_input": "2025-06-04T05:08:51.040326Z",
     "iopub.status.busy": "2025-06-04T05:08:51.040105Z",
     "iopub.status.idle": "2025-06-04T05:08:51.043876Z",
     "shell.execute_reply": "2025-06-04T05:08:51.043231Z"
    },
    "papermill": {
     "duration": 0.012103,
     "end_time": "2025-06-04T05:08:51.044888",
     "exception": false,
     "start_time": "2025-06-04T05:08:51.032785",
     "status": "completed"
    },
    "tags": []
   },
   "outputs": [],
   "source": [
    "def one_epoch(coeffs, lr):\n",
    "    loss = calc_loss(coeffs, trn_indep, trn_dep)\n",
    "    loss.backward()\n",
    "    with torch.no_grad(): update_coeffs(coeffs, lr)\n",
    "    print(f\"{loss:.3f}\", end=\"; \")"
   ]
  },
  {
   "cell_type": "code",
   "execution_count": 19,
   "id": "36f9ff3c",
   "metadata": {
    "execution": {
     "iopub.execute_input": "2025-06-04T05:08:51.058978Z",
     "iopub.status.busy": "2025-06-04T05:08:51.058766Z",
     "iopub.status.idle": "2025-06-04T05:08:51.062109Z",
     "shell.execute_reply": "2025-06-04T05:08:51.061438Z"
    },
    "papermill": {
     "duration": 0.011532,
     "end_time": "2025-06-04T05:08:51.063146",
     "exception": false,
     "start_time": "2025-06-04T05:08:51.051614",
     "status": "completed"
    },
    "tags": []
   },
   "outputs": [],
   "source": [
    "def init_coeffs(): return (torch.rand(n_coeff)-0.5).requires_grad_()"
   ]
  },
  {
   "cell_type": "markdown",
   "id": "ae5587e7",
   "metadata": {
    "papermill": {
     "duration": 0.006466,
     "end_time": "2025-06-04T05:08:51.076919",
     "exception": false,
     "start_time": "2025-06-04T05:08:51.070453",
     "status": "completed"
    },
    "tags": []
   },
   "source": [
    "Now we can assemble a function that trains the linear model."
   ]
  },
  {
   "cell_type": "code",
   "execution_count": 20,
   "id": "2b8b4a0c",
   "metadata": {
    "execution": {
     "iopub.execute_input": "2025-06-04T05:08:51.090964Z",
     "iopub.status.busy": "2025-06-04T05:08:51.090739Z",
     "iopub.status.idle": "2025-06-04T05:08:51.094196Z",
     "shell.execute_reply": "2025-06-04T05:08:51.093679Z"
    },
    "papermill": {
     "duration": 0.011722,
     "end_time": "2025-06-04T05:08:51.095265",
     "exception": false,
     "start_time": "2025-06-04T05:08:51.083543",
     "status": "completed"
    },
    "tags": []
   },
   "outputs": [],
   "source": [
    "def train_model(epochs=30, lr=0.01):\n",
    "    torch.manual_seed(442)\n",
    "    coeffs = init_coeffs()\n",
    "    for i in range(epochs): one_epoch(coeffs, lr=lr)\n",
    "    return coeffs"
   ]
  },
  {
   "cell_type": "markdown",
   "id": "df8b3e0d",
   "metadata": {
    "papermill": {
     "duration": 0.006713,
     "end_time": "2025-06-04T05:08:51.108626",
     "exception": false,
     "start_time": "2025-06-04T05:08:51.101913",
     "status": "completed"
    },
    "tags": []
   },
   "source": [
    "Train model. I found lr=0.34 returns the best accuracy for this linear model."
   ]
  },
  {
   "cell_type": "code",
   "execution_count": 21,
   "id": "81d435e8",
   "metadata": {
    "execution": {
     "iopub.execute_input": "2025-06-04T05:08:51.122867Z",
     "iopub.status.busy": "2025-06-04T05:08:51.122688Z",
     "iopub.status.idle": "2025-06-04T05:08:51.139788Z",
     "shell.execute_reply": "2025-06-04T05:08:51.139249Z"
    },
    "papermill": {
     "duration": 0.02545,
     "end_time": "2025-06-04T05:08:51.140823",
     "exception": false,
     "start_time": "2025-06-04T05:08:51.115373",
     "status": "completed"
    },
    "tags": []
   },
   "outputs": [
    {
     "name": "stdout",
     "output_type": "stream",
     "text": [
      "5.622; 3.175; 3.117; 3.081; 3.055; 3.036; 3.020; 3.008; 2.997; 2.988; 2.981; 2.974; 2.968; 2.963; 2.958; 2.954; 2.950; 2.947; "
     ]
    },
    {
     "data": {
      "text/plain": [
       "{'Age': tensor(-17.3433),\n",
       " 'SibSp': tensor(-14.0227),\n",
       " 'Parch': tensor(-12.2266),\n",
       " 'LogFare': tensor(-14.9736),\n",
       " 'Sex_male': tensor(-17.0535),\n",
       " 'Sex_female': tensor(-9.3165),\n",
       " 'Pclass_1': tensor(-6.5900),\n",
       " 'Pclass_2': tensor(-6.1898),\n",
       " 'Pclass_3': tensor(-13.9823),\n",
       " 'Embarked_C': tensor(-6.3116),\n",
       " 'Embarked_Q': tensor(-5.0331),\n",
       " 'Embarked_S': tensor(-18.1309)}"
      ]
     },
     "execution_count": 21,
     "metadata": {},
     "output_type": "execute_result"
    }
   ],
   "source": [
    "coeffs = train_model(18, lr=105)\n",
    "def show_coeffs(): return dict(zip(indep_cols, coeffs.requires_grad_(False)))\n",
    "show_coeffs()"
   ]
  },
  {
   "cell_type": "markdown",
   "id": "da26def7",
   "metadata": {
    "papermill": {
     "duration": 0.006816,
     "end_time": "2025-06-04T05:08:51.154703",
     "exception": false,
     "start_time": "2025-06-04T05:08:51.147887",
     "status": "completed"
    },
    "tags": []
   },
   "source": [
    "Calculate absolute error (the loss function)"
   ]
  },
  {
   "cell_type": "code",
   "execution_count": 22,
   "id": "30d9cc2a",
   "metadata": {
    "execution": {
     "iopub.execute_input": "2025-06-04T05:08:51.169233Z",
     "iopub.status.busy": "2025-06-04T05:08:51.169041Z",
     "iopub.status.idle": "2025-06-04T05:08:51.174442Z",
     "shell.execute_reply": "2025-06-04T05:08:51.173774Z"
    },
    "papermill": {
     "duration": 0.013951,
     "end_time": "2025-06-04T05:08:51.175532",
     "exception": false,
     "start_time": "2025-06-04T05:08:51.161581",
     "status": "completed"
    },
    "tags": []
   },
   "outputs": [
    {
     "data": {
      "text/plain": [
       "tensor(0.4045)"
      ]
     },
     "execution_count": 22,
     "metadata": {},
     "output_type": "execute_result"
    }
   ],
   "source": [
    "def acc(coeffs): return (val_dep.bool()==(calc_preds(coeffs, val_indep)>0.5)).float().mean()\n",
    "acc(coeffs)"
   ]
  },
  {
   "cell_type": "markdown",
   "id": "e45f3c93",
   "metadata": {
    "papermill": {
     "duration": 0.006894,
     "end_time": "2025-06-04T05:08:51.189352",
     "exception": false,
     "start_time": "2025-06-04T05:08:51.182458",
     "status": "completed"
    },
    "tags": []
   },
   "source": [
    "I noticed that when testing for learning ranges (iterating 1-100) with a sigmoid function, the loss remains the same throughout.  "
   ]
  },
  {
   "cell_type": "code",
   "execution_count": 23,
   "id": "4c263c37",
   "metadata": {
    "execution": {
     "iopub.execute_input": "2025-06-04T05:08:51.203735Z",
     "iopub.status.busy": "2025-06-04T05:08:51.203557Z",
     "iopub.status.idle": "2025-06-04T05:08:51.206574Z",
     "shell.execute_reply": "2025-06-04T05:08:51.205885Z"
    },
    "papermill": {
     "duration": 0.011371,
     "end_time": "2025-06-04T05:08:51.207612",
     "exception": false,
     "start_time": "2025-06-04T05:08:51.196241",
     "status": "completed"
    },
    "tags": []
   },
   "outputs": [],
   "source": [
    "#err = []\n",
    "#for i in range(200):\n",
    "    #err.append(acc(train_model(18, lr=i)))\n",
    "\n",
    "### err is all accuracies of 0.8258"
   ]
  },
  {
   "cell_type": "markdown",
   "id": "0234e94e",
   "metadata": {
    "papermill": {
     "duration": 0.006647,
     "end_time": "2025-06-04T05:08:51.221250",
     "exception": false,
     "start_time": "2025-06-04T05:08:51.214603",
     "status": "completed"
    },
    "tags": []
   },
   "source": [
    "Now submit:"
   ]
  },
  {
   "cell_type": "code",
   "execution_count": 24,
   "id": "f33291f3",
   "metadata": {
    "execution": {
     "iopub.execute_input": "2025-06-04T05:08:51.235847Z",
     "iopub.status.busy": "2025-06-04T05:08:51.235415Z",
     "iopub.status.idle": "2025-06-04T05:08:51.271431Z",
     "shell.execute_reply": "2025-06-04T05:08:51.270923Z"
    },
    "papermill": {
     "duration": 0.044557,
     "end_time": "2025-06-04T05:08:51.272554",
     "exception": false,
     "start_time": "2025-06-04T05:08:51.227997",
     "status": "completed"
    },
    "tags": []
   },
   "outputs": [],
   "source": [
    "tst_df = pd.read_csv(path/'test.csv')\n",
    "tst_df['Fare'] = tst_df.Fare.fillna(0)\n",
    "tst_df.fillna(modes, inplace=True)\n",
    "tst_df['LogFare'] = np.log(tst_df['Fare']+1)\n",
    "tst_df = pd.get_dummies(tst_df, columns=[\"Sex\",\"Pclass\",\"Embarked\"])\n",
    "\n",
    "tst_df[indep_cols] = tst_df[indep_cols].astype({col: 'int' for col in tst_df[indep_cols].select_dtypes('bool').columns})\n",
    "tst_indep = tensor(tst_df[indep_cols].values, dtype=torch.float)\n",
    "tst_indep = tst_indep / vals\n",
    "tst_df['Survived'] = (calc_preds(tst_indep, coeffs)>0.5).int()\n",
    "sub_df = tst_df[['PassengerId','Survived']]\n",
    "sub_df.to_csv('sub.csv', index=False)"
   ]
  },
  {
   "cell_type": "markdown",
   "id": "264a6ae6",
   "metadata": {
    "papermill": {
     "duration": 0.006824,
     "end_time": "2025-06-04T05:08:51.286510",
     "exception": false,
     "start_time": "2025-06-04T05:08:51.279686",
     "status": "completed"
    },
    "tags": []
   },
   "source": [
    "With a simple linear model, we achieved a score of 0.77751. Now let's see what a neural net can achieve."
   ]
  },
  {
   "cell_type": "markdown",
   "id": "19ff9f42",
   "metadata": {
    "papermill": {
     "duration": 0.006809,
     "end_time": "2025-06-04T05:08:51.300283",
     "exception": false,
     "start_time": "2025-06-04T05:08:51.293474",
     "status": "completed"
    },
    "tags": []
   },
   "source": [
    "First, we can optimize our core calculation: (indeps * coeffs).sum(axis=1) by instead doing a matrix product with indeps @ coeffs. To do this, we must makes coeffs into a vector."
   ]
  },
  {
   "cell_type": "code",
   "execution_count": 25,
   "id": "aabd0c3c",
   "metadata": {
    "execution": {
     "iopub.execute_input": "2025-06-04T05:08:51.315153Z",
     "iopub.status.busy": "2025-06-04T05:08:51.314710Z",
     "iopub.status.idle": "2025-06-04T05:08:51.318349Z",
     "shell.execute_reply": "2025-06-04T05:08:51.317662Z"
    },
    "papermill": {
     "duration": 0.012368,
     "end_time": "2025-06-04T05:08:51.319502",
     "exception": false,
     "start_time": "2025-06-04T05:08:51.307134",
     "status": "completed"
    },
    "tags": []
   },
   "outputs": [],
   "source": [
    "def calc_preds(coeffs, indeps): return torch.sigmoid(indeps@coeffs)\n",
    "def init_coeffs(): return (torch.rand(n_coeff, 1)*0.1).requires_grad_()"
   ]
  },
  {
   "cell_type": "markdown",
   "id": "704cced2",
   "metadata": {
    "papermill": {
     "duration": 0.006741,
     "end_time": "2025-06-04T05:08:51.333127",
     "exception": false,
     "start_time": "2025-06-04T05:08:51.326386",
     "status": "completed"
    },
    "tags": []
   },
   "source": [
    "Similiarily, we must make our dependent variables column vectors."
   ]
  },
  {
   "cell_type": "code",
   "execution_count": 26,
   "id": "0ae5fa3a",
   "metadata": {
    "execution": {
     "iopub.execute_input": "2025-06-04T05:08:51.347601Z",
     "iopub.status.busy": "2025-06-04T05:08:51.347433Z",
     "iopub.status.idle": "2025-06-04T05:08:51.352497Z",
     "shell.execute_reply": "2025-06-04T05:08:51.351827Z"
    },
    "papermill": {
     "duration": 0.013461,
     "end_time": "2025-06-04T05:08:51.353496",
     "exception": false,
     "start_time": "2025-06-04T05:08:51.340035",
     "status": "completed"
    },
    "tags": []
   },
   "outputs": [],
   "source": [
    "trn_dep = trn_dep[:,None]\n",
    "val_dep = val_dep[:,None]"
   ]
  },
  {
   "cell_type": "markdown",
   "id": "93e82993",
   "metadata": {
    "papermill": {
     "duration": 0.006822,
     "end_time": "2025-06-04T05:08:51.367243",
     "exception": false,
     "start_time": "2025-06-04T05:08:51.360421",
     "status": "completed"
    },
    "tags": []
   },
   "source": [
    "This produces a model of the same accuracy:"
   ]
  },
  {
   "cell_type": "code",
   "execution_count": 27,
   "id": "13519639",
   "metadata": {
    "execution": {
     "iopub.execute_input": "2025-06-04T05:08:51.381837Z",
     "iopub.status.busy": "2025-06-04T05:08:51.381389Z",
     "iopub.status.idle": "2025-06-04T05:08:51.404935Z",
     "shell.execute_reply": "2025-06-04T05:08:51.404247Z"
    },
    "papermill": {
     "duration": 0.032005,
     "end_time": "2025-06-04T05:08:51.406025",
     "exception": false,
     "start_time": "2025-06-04T05:08:51.374020",
     "status": "completed"
    },
    "tags": []
   },
   "outputs": [
    {
     "name": "stdout",
     "output_type": "stream",
     "text": [
      "0.512; 0.323; 0.290; 0.205; 0.200; 0.198; 0.197; 0.197; 0.196; 0.196; 0.196; 0.195; 0.195; 0.195; 0.195; 0.195; 0.195; 0.194; 0.194; 0.194; 0.194; 0.194; 0.194; 0.194; 0.194; 0.194; 0.194; 0.194; 0.194; 0.194; "
     ]
    },
    {
     "data": {
      "text/plain": [
       "tensor(0.8258)"
      ]
     },
     "execution_count": 27,
     "metadata": {},
     "output_type": "execute_result"
    }
   ],
   "source": [
    "coeffs = train_model(lr=100)\n",
    "acc(coeffs)"
   ]
  },
  {
   "cell_type": "markdown",
   "id": "e0b8ff69",
   "metadata": {
    "papermill": {
     "duration": 0.006878,
     "end_time": "2025-06-04T05:08:51.420298",
     "exception": false,
     "start_time": "2025-06-04T05:08:51.413420",
     "status": "completed"
    },
    "tags": []
   },
   "source": [
    "Now let's make the coefficients for the neural network. For layer one, the coefficients will be vectors from -0.5 - 0.5, normalized by divied by n_hidden. Layer 2 just needs a 2d vectors of coefficients as it will give the final prediction in a single integer, scalar probality. The constant term -0.3 initialized the coefficients to allow for training."
   ]
  },
  {
   "cell_type": "code",
   "execution_count": 28,
   "id": "61a26bee",
   "metadata": {
    "execution": {
     "iopub.execute_input": "2025-06-04T05:08:51.434882Z",
     "iopub.status.busy": "2025-06-04T05:08:51.434675Z",
     "iopub.status.idle": "2025-06-04T05:08:51.438618Z",
     "shell.execute_reply": "2025-06-04T05:08:51.437949Z"
    },
    "papermill": {
     "duration": 0.01255,
     "end_time": "2025-06-04T05:08:51.439710",
     "exception": false,
     "start_time": "2025-06-04T05:08:51.427160",
     "status": "completed"
    },
    "tags": []
   },
   "outputs": [],
   "source": [
    "import torch.nn.functional as F\n",
    "\n",
    "def init_coeffs(n_hidden=20):\n",
    "    layer1 = (torch.rand(n_coeff, n_hidden)-0.5)/n_hidden\n",
    "    layer2 = torch.rand(n_hidden, 1)-0.3\n",
    "    const = torch.rand(1)[0]\n",
    "    return layer1.requires_grad_(),layer2.requires_grad_(),const.requires_grad_()"
   ]
  },
  {
   "cell_type": "code",
   "execution_count": 29,
   "id": "9bc14917",
   "metadata": {
    "execution": {
     "iopub.execute_input": "2025-06-04T05:08:51.456482Z",
     "iopub.status.busy": "2025-06-04T05:08:51.455952Z",
     "iopub.status.idle": "2025-06-04T05:08:51.459693Z",
     "shell.execute_reply": "2025-06-04T05:08:51.459006Z"
    },
    "papermill": {
     "duration": 0.012579,
     "end_time": "2025-06-04T05:08:51.460791",
     "exception": false,
     "start_time": "2025-06-04T05:08:51.448212",
     "status": "completed"
    },
    "tags": []
   },
   "outputs": [],
   "source": [
    "def calc_preds(coeffs, indeps):\n",
    "    l1, l2, const = coeffs                 # unpack layers\n",
    "    res = F.relu(indeps @ l1)              # first layer output with activation\n",
    "    res = res @ l2 + const                 # second layer linear transform + bias\n",
    "    return torch.sigmoid(res).squeeze()   #"
   ]
  },
  {
   "cell_type": "code",
   "execution_count": 30,
   "id": "d73235b1",
   "metadata": {
    "execution": {
     "iopub.execute_input": "2025-06-04T05:08:51.475677Z",
     "iopub.status.busy": "2025-06-04T05:08:51.475482Z",
     "iopub.status.idle": "2025-06-04T05:08:51.478755Z",
     "shell.execute_reply": "2025-06-04T05:08:51.478256Z"
    },
    "papermill": {
     "duration": 0.011949,
     "end_time": "2025-06-04T05:08:51.479767",
     "exception": false,
     "start_time": "2025-06-04T05:08:51.467818",
     "status": "completed"
    },
    "tags": []
   },
   "outputs": [],
   "source": [
    "def update_coeffs(coeffs, lr):\n",
    "    for layer in coeffs:\n",
    "        layer.sub_(layer.grad * lr)\n",
    "        layer.grad.zero_()"
   ]
  },
  {
   "cell_type": "code",
   "execution_count": 31,
   "id": "8f18dbba",
   "metadata": {
    "execution": {
     "iopub.execute_input": "2025-06-04T05:08:51.494815Z",
     "iopub.status.busy": "2025-06-04T05:08:51.494619Z",
     "iopub.status.idle": "2025-06-04T05:08:51.614680Z",
     "shell.execute_reply": "2025-06-04T05:08:51.613912Z"
    },
    "papermill": {
     "duration": 0.128975,
     "end_time": "2025-06-04T05:08:51.615917",
     "exception": false,
     "start_time": "2025-06-04T05:08:51.486942",
     "status": "completed"
    },
    "tags": []
   },
   "outputs": [
    {
     "name": "stdout",
     "output_type": "stream",
     "text": [
      "0.544; 0.538; 0.532; 0.526; 0.519; 0.512; 0.504; 0.495; 0.486; 0.476; 0.465; 0.455; 0.444; 0.434; 0.426; 0.418; 0.412; 0.407; 0.403; 0.400; 0.397; 0.395; 0.393; 0.391; 0.390; 0.389; 0.388; 0.387; 0.387; 0.386; "
     ]
    }
   ],
   "source": [
    "coeffs = train_model(lr=1.4)"
   ]
  },
  {
   "cell_type": "code",
   "execution_count": 32,
   "id": "5c1c6571",
   "metadata": {
    "execution": {
     "iopub.execute_input": "2025-06-04T05:08:51.632169Z",
     "iopub.status.busy": "2025-06-04T05:08:51.631653Z",
     "iopub.status.idle": "2025-06-04T05:08:51.637022Z",
     "shell.execute_reply": "2025-06-04T05:08:51.636359Z"
    },
    "papermill": {
     "duration": 0.014586,
     "end_time": "2025-06-04T05:08:51.638227",
     "exception": false,
     "start_time": "2025-06-04T05:08:51.623641",
     "status": "completed"
    },
    "tags": []
   },
   "outputs": [
    {
     "data": {
      "text/plain": [
       "tensor(0.5955)"
      ]
     },
     "execution_count": 32,
     "metadata": {},
     "output_type": "execute_result"
    }
   ],
   "source": [
    "acc(coeffs)"
   ]
  },
  {
   "cell_type": "code",
   "execution_count": 33,
   "id": "50cd79ab",
   "metadata": {
    "execution": {
     "iopub.execute_input": "2025-06-04T05:08:51.654116Z",
     "iopub.status.busy": "2025-06-04T05:08:51.653885Z",
     "iopub.status.idle": "2025-06-04T05:08:51.660906Z",
     "shell.execute_reply": "2025-06-04T05:08:51.660371Z"
    },
    "papermill": {
     "duration": 0.016234,
     "end_time": "2025-06-04T05:08:51.662029",
     "exception": false,
     "start_time": "2025-06-04T05:08:51.645795",
     "status": "completed"
    },
    "tags": []
   },
   "outputs": [
    {
     "data": {
      "text/plain": [
       "(tensor([[-0.0186,  0.0203, -0.0230, -0.0033,  0.0087,  0.0092,  0.0087,  0.0048, -0.0246, -0.0020, -0.0132,  0.0230,  0.0165,  0.0145,\n",
       "           0.0247, -0.0189,  0.0189, -0.0066,  0.0023,  0.0043],\n",
       "         [ 0.0108, -0.0123, -0.0230,  0.0152,  0.0202, -0.0014, -0.0249, -0.0012,  0.0184, -0.0013,  0.0221, -0.0126,  0.0181, -0.0191,\n",
       "          -0.0180, -0.0221, -0.0159,  0.0117,  0.0218, -0.0041],\n",
       "         [-0.0127,  0.0224,  0.0088, -0.0087, -0.0053,  0.0024, -0.0113, -0.0198, -0.0075,  0.0194, -0.0234,  0.0125, -0.0079, -0.0151,\n",
       "          -0.0042,  0.0076, -0.0067, -0.0175,  0.0073,  0.0034],\n",
       "         [-0.0217, -0.0221,  0.0033, -0.0033, -0.0161, -0.0164,  0.0166,  0.0223, -0.0210, -0.0123, -0.0065,  0.0063,  0.0201,  0.0226,\n",
       "          -0.0152,  0.0103, -0.0152, -0.0131,  0.0197, -0.0195],\n",
       "         [-0.0067, -0.0018,  0.0217,  0.0121,  0.0096, -0.0024, -0.0058, -0.0089,  0.0038, -0.0249,  0.0091,  0.0111,  0.0154, -0.0209,\n",
       "          -0.0011,  0.0082,  0.0075, -0.0153,  0.0194, -0.0227],\n",
       "         [-0.0194, -0.0046, -0.0143,  0.0124, -0.0136, -0.0074, -0.0048,  0.0237,  0.0186, -0.0129, -0.0112,  0.0049,  0.0167,  0.0132,\n",
       "           0.0243, -0.0068,  0.0007, -0.0207, -0.0037,  0.0184],\n",
       "         [-0.0071, -0.0234, -0.0028, -0.0050, -0.0217,  0.0095, -0.0026,  0.0210,  0.0044, -0.0158, -0.0213, -0.0051, -0.0048, -0.0064,\n",
       "           0.0155,  0.0247,  0.0018,  0.0098,  0.0139, -0.0187],\n",
       "         [-0.0058, -0.0015,  0.0230,  0.0200, -0.0118,  0.0019, -0.0217,  0.0074,  0.0087,  0.0012,  0.0087,  0.0077,  0.0061,  0.0198,\n",
       "          -0.0220, -0.0148,  0.0062,  0.0080,  0.0185,  0.0040],\n",
       "         [ 0.0096, -0.0136, -0.0220,  0.0037, -0.0230, -0.0108, -0.0014,  0.0189, -0.0121,  0.0028,  0.0029, -0.0097,  0.0216, -0.0144,\n",
       "          -0.0231,  0.0148,  0.0004, -0.0116,  0.0194,  0.0221],\n",
       "         [ 0.0166,  0.0115, -0.0238,  0.0033,  0.0201, -0.0196,  0.0226, -0.0031, -0.0230, -0.0197,  0.0052, -0.0064, -0.0005, -0.0053,\n",
       "          -0.0088, -0.0055,  0.0043, -0.0036, -0.0084, -0.0129],\n",
       "         [-0.0051, -0.0108,  0.0053, -0.0213,  0.0057, -0.0044, -0.0153,  0.0240,  0.0197,  0.0128, -0.0024,  0.0017, -0.0030,  0.0044,\n",
       "           0.0063,  0.0045,  0.0062, -0.0225, -0.0119,  0.0229],\n",
       "         [ 0.0016, -0.0124,  0.0110, -0.0016,  0.0025, -0.0133, -0.0097,  0.0041, -0.0039,  0.0082,  0.0102,  0.0246,  0.0048, -0.0079,\n",
       "           0.0199, -0.0089, -0.0220, -0.0239,  0.0223,  0.0237]], requires_grad=True),\n",
       " tensor([[ 0.2182],\n",
       "         [-0.0608],\n",
       "         [-0.1492],\n",
       "         [-0.0073],\n",
       "         [ 0.4667],\n",
       "         [-0.0695],\n",
       "         [ 0.1799],\n",
       "         [-0.1172],\n",
       "         [ 0.0388],\n",
       "         [ 0.2410],\n",
       "         [ 0.1785],\n",
       "         [ 0.4071],\n",
       "         [ 0.2426],\n",
       "         [-0.1506],\n",
       "         [-0.2389],\n",
       "         [-0.0437],\n",
       "         [-0.2112],\n",
       "         [ 0.2262],\n",
       "         [ 0.5860],\n",
       "         [ 0.0422]], requires_grad=True),\n",
       " tensor(0.9260, requires_grad=True))"
      ]
     },
     "execution_count": 33,
     "metadata": {},
     "output_type": "execute_result"
    }
   ],
   "source": [
    "coeffs = init_coeffs()\n",
    "coeffs"
   ]
  },
  {
   "cell_type": "code",
   "execution_count": 34,
   "id": "baa6f4c9",
   "metadata": {
    "execution": {
     "iopub.execute_input": "2025-06-04T05:08:51.678029Z",
     "iopub.status.busy": "2025-06-04T05:08:51.677830Z",
     "iopub.status.idle": "2025-06-04T05:08:51.698715Z",
     "shell.execute_reply": "2025-06-04T05:08:51.698199Z"
    },
    "papermill": {
     "duration": 0.030241,
     "end_time": "2025-06-04T05:08:51.699835",
     "exception": false,
     "start_time": "2025-06-04T05:08:51.669594",
     "status": "completed"
    },
    "tags": []
   },
   "outputs": [],
   "source": [
    "tst_df = pd.read_csv(path/'test.csv')\n",
    "tst_df['Fare'] = tst_df.Fare.fillna(0)\n",
    "tst_df.fillna(modes, inplace=True)\n",
    "tst_df['LogFare'] = np.log(tst_df['Fare']+1)\n",
    "tst_df = pd.get_dummies(tst_df, columns=[\"Sex\",\"Pclass\",\"Embarked\"])\n",
    "\n",
    "tst_df[indep_cols] = tst_df[indep_cols].astype({col: 'int' for col in tst_df[indep_cols].select_dtypes('bool').columns})\n",
    "tst_indep = tensor(tst_df[indep_cols].values, dtype=torch.float)\n",
    "tst_indep = tst_indep / vals\n",
    "tst_df['Survived'] = (calc_preds(coeffs, tst_indep)>0.5).int()\n",
    "sub_df = tst_df[['PassengerId','Survived']]\n",
    "sub_df.to_csv('sub.csv', index=False)"
   ]
  }
 ],
 "metadata": {
  "kaggle": {
   "accelerator": "gpu",
   "dataSources": [
    {
     "databundleVersionId": 26502,
     "sourceId": 3136,
     "sourceType": "competition"
    }
   ],
   "dockerImageVersionId": 31040,
   "isGpuEnabled": true,
   "isInternetEnabled": true,
   "language": "python",
   "sourceType": "notebook"
  },
  "kernelspec": {
   "display_name": "Python 3",
   "language": "python",
   "name": "python3"
  },
  "language_info": {
   "codemirror_mode": {
    "name": "ipython",
    "version": 3
   },
   "file_extension": ".py",
   "mimetype": "text/x-python",
   "name": "python",
   "nbconvert_exporter": "python",
   "pygments_lexer": "ipython3",
   "version": "3.11.11"
  },
  "papermill": {
   "default_parameters": {},
   "duration": 15.038559,
   "end_time": "2025-06-04T05:08:53.530721",
   "environment_variables": {},
   "exception": null,
   "input_path": "__notebook__.ipynb",
   "output_path": "__notebook__.ipynb",
   "parameters": {},
   "start_time": "2025-06-04T05:08:38.492162",
   "version": "2.6.0"
  }
 },
 "nbformat": 4,
 "nbformat_minor": 5
}
