{
 "cells": [
  {
   "cell_type": "code",
   "execution_count": 1,
   "id": "efaa1898",
   "metadata": {
    "_cell_guid": "b1076dfc-b9ad-4769-8c92-a6c4dae69d19",
    "_uuid": "8f2839f25d086af736a60e9eeb907d3b93b6e0e5",
    "execution": {
     "iopub.execute_input": "2025-06-04T04:20:36.095639Z",
     "iopub.status.busy": "2025-06-04T04:20:36.095287Z",
     "iopub.status.idle": "2025-06-04T04:20:36.102430Z",
     "shell.execute_reply": "2025-06-04T04:20:36.101707Z"
    },
    "papermill": {
     "duration": 0.014666,
     "end_time": "2025-06-04T04:20:36.103662",
     "exception": false,
     "start_time": "2025-06-04T04:20:36.088996",
     "status": "completed"
    },
    "tags": []
   },
   "outputs": [],
   "source": [
    "import os\n",
    "from pathlib import Path\n",
    "\n",
    "iskaggle = os.environ.get('KAGGLE_KERNEL_RUN_TYPE', '')\n",
    "if iskaggle: path = Path('../input/titanic')\n",
    "else:\n",
    "    path = Path('titanic')\n",
    "    if not path.exists():\n",
    "        import zipfile,kaggle\n",
    "        kaggle.api.competition_download_cli(str(path))\n",
    "        zipfile.ZipFile(f'{path}.zip').extractall(path)"
   ]
  },
  {
   "cell_type": "code",
   "execution_count": 2,
   "id": "4bd8f19f",
   "metadata": {
    "execution": {
     "iopub.execute_input": "2025-06-04T04:20:36.113814Z",
     "iopub.status.busy": "2025-06-04T04:20:36.113376Z",
     "iopub.status.idle": "2025-06-04T04:20:42.449876Z",
     "shell.execute_reply": "2025-06-04T04:20:42.449061Z"
    },
    "papermill": {
     "duration": 6.343087,
     "end_time": "2025-06-04T04:20:42.451437",
     "exception": false,
     "start_time": "2025-06-04T04:20:36.108350",
     "status": "completed"
    },
    "tags": []
   },
   "outputs": [],
   "source": [
    "import torch, numpy as np, pandas as pd\n",
    "np.set_printoptions(linewidth=140)\n",
    "torch.set_printoptions(linewidth=140, sci_mode=False, edgeitems=7)\n",
    "pd.set_option('display.width', 140)"
   ]
  },
  {
   "cell_type": "code",
   "execution_count": 3,
   "id": "eae1326e",
   "metadata": {
    "execution": {
     "iopub.execute_input": "2025-06-04T04:20:42.461680Z",
     "iopub.status.busy": "2025-06-04T04:20:42.461275Z",
     "iopub.status.idle": "2025-06-04T04:20:42.500951Z",
     "shell.execute_reply": "2025-06-04T04:20:42.500128Z"
    },
    "papermill": {
     "duration": 0.045933,
     "end_time": "2025-06-04T04:20:42.502104",
     "exception": false,
     "start_time": "2025-06-04T04:20:42.456171",
     "status": "completed"
    },
    "tags": []
   },
   "outputs": [
    {
     "data": {
      "text/html": [
       "<div>\n",
       "<style scoped>\n",
       "    .dataframe tbody tr th:only-of-type {\n",
       "        vertical-align: middle;\n",
       "    }\n",
       "\n",
       "    .dataframe tbody tr th {\n",
       "        vertical-align: top;\n",
       "    }\n",
       "\n",
       "    .dataframe thead th {\n",
       "        text-align: right;\n",
       "    }\n",
       "</style>\n",
       "<table border=\"1\" class=\"dataframe\">\n",
       "  <thead>\n",
       "    <tr style=\"text-align: right;\">\n",
       "      <th></th>\n",
       "      <th>PassengerId</th>\n",
       "      <th>Survived</th>\n",
       "      <th>Pclass</th>\n",
       "      <th>Name</th>\n",
       "      <th>Sex</th>\n",
       "      <th>Age</th>\n",
       "      <th>SibSp</th>\n",
       "      <th>Parch</th>\n",
       "      <th>Ticket</th>\n",
       "      <th>Fare</th>\n",
       "      <th>Cabin</th>\n",
       "      <th>Embarked</th>\n",
       "    </tr>\n",
       "  </thead>\n",
       "  <tbody>\n",
       "    <tr>\n",
       "      <th>0</th>\n",
       "      <td>1</td>\n",
       "      <td>0</td>\n",
       "      <td>3</td>\n",
       "      <td>Braund, Mr. Owen Harris</td>\n",
       "      <td>male</td>\n",
       "      <td>22.0</td>\n",
       "      <td>1</td>\n",
       "      <td>0</td>\n",
       "      <td>A/5 21171</td>\n",
       "      <td>7.2500</td>\n",
       "      <td>NaN</td>\n",
       "      <td>S</td>\n",
       "    </tr>\n",
       "    <tr>\n",
       "      <th>1</th>\n",
       "      <td>2</td>\n",
       "      <td>1</td>\n",
       "      <td>1</td>\n",
       "      <td>Cumings, Mrs. John Bradley (Florence Briggs Th...</td>\n",
       "      <td>female</td>\n",
       "      <td>38.0</td>\n",
       "      <td>1</td>\n",
       "      <td>0</td>\n",
       "      <td>PC 17599</td>\n",
       "      <td>71.2833</td>\n",
       "      <td>C85</td>\n",
       "      <td>C</td>\n",
       "    </tr>\n",
       "    <tr>\n",
       "      <th>2</th>\n",
       "      <td>3</td>\n",
       "      <td>1</td>\n",
       "      <td>3</td>\n",
       "      <td>Heikkinen, Miss. Laina</td>\n",
       "      <td>female</td>\n",
       "      <td>26.0</td>\n",
       "      <td>0</td>\n",
       "      <td>0</td>\n",
       "      <td>STON/O2. 3101282</td>\n",
       "      <td>7.9250</td>\n",
       "      <td>NaN</td>\n",
       "      <td>S</td>\n",
       "    </tr>\n",
       "    <tr>\n",
       "      <th>3</th>\n",
       "      <td>4</td>\n",
       "      <td>1</td>\n",
       "      <td>1</td>\n",
       "      <td>Futrelle, Mrs. Jacques Heath (Lily May Peel)</td>\n",
       "      <td>female</td>\n",
       "      <td>35.0</td>\n",
       "      <td>1</td>\n",
       "      <td>0</td>\n",
       "      <td>113803</td>\n",
       "      <td>53.1000</td>\n",
       "      <td>C123</td>\n",
       "      <td>S</td>\n",
       "    </tr>\n",
       "    <tr>\n",
       "      <th>4</th>\n",
       "      <td>5</td>\n",
       "      <td>0</td>\n",
       "      <td>3</td>\n",
       "      <td>Allen, Mr. William Henry</td>\n",
       "      <td>male</td>\n",
       "      <td>35.0</td>\n",
       "      <td>0</td>\n",
       "      <td>0</td>\n",
       "      <td>373450</td>\n",
       "      <td>8.0500</td>\n",
       "      <td>NaN</td>\n",
       "      <td>S</td>\n",
       "    </tr>\n",
       "  </tbody>\n",
       "</table>\n",
       "</div>"
      ],
      "text/plain": [
       "   PassengerId  Survived  Pclass                                               Name     Sex   Age  SibSp  Parch            Ticket  \\\n",
       "0            1         0       3                            Braund, Mr. Owen Harris    male  22.0      1      0         A/5 21171   \n",
       "1            2         1       1  Cumings, Mrs. John Bradley (Florence Briggs Th...  female  38.0      1      0          PC 17599   \n",
       "2            3         1       3                             Heikkinen, Miss. Laina  female  26.0      0      0  STON/O2. 3101282   \n",
       "3            4         1       1       Futrelle, Mrs. Jacques Heath (Lily May Peel)  female  35.0      1      0            113803   \n",
       "4            5         0       3                           Allen, Mr. William Henry    male  35.0      0      0            373450   \n",
       "\n",
       "      Fare Cabin Embarked  \n",
       "0   7.2500   NaN        S  \n",
       "1  71.2833   C85        C  \n",
       "2   7.9250   NaN        S  \n",
       "3  53.1000  C123        S  \n",
       "4   8.0500   NaN        S  "
      ]
     },
     "execution_count": 3,
     "metadata": {},
     "output_type": "execute_result"
    }
   ],
   "source": [
    "df = pd.read_csv(path/'train.csv')\n",
    "df.head()"
   ]
  },
  {
   "cell_type": "markdown",
   "id": "060a0d45",
   "metadata": {
    "papermill": {
     "duration": 0.004285,
     "end_time": "2025-06-04T04:20:42.511190",
     "exception": false,
     "start_time": "2025-06-04T04:20:42.506905",
     "status": "completed"
    },
    "tags": []
   },
   "source": [
    "Replace NAN values with the column's mean value"
   ]
  },
  {
   "cell_type": "code",
   "execution_count": 4,
   "id": "40e74686",
   "metadata": {
    "execution": {
     "iopub.execute_input": "2025-06-04T04:20:42.521219Z",
     "iopub.status.busy": "2025-06-04T04:20:42.520800Z",
     "iopub.status.idle": "2025-06-04T04:20:42.548855Z",
     "shell.execute_reply": "2025-06-04T04:20:42.548103Z"
    },
    "papermill": {
     "duration": 0.034355,
     "end_time": "2025-06-04T04:20:42.549975",
     "exception": false,
     "start_time": "2025-06-04T04:20:42.515620",
     "status": "completed"
    },
    "tags": []
   },
   "outputs": [
    {
     "data": {
      "text/plain": [
       "PassengerId    0\n",
       "Survived       0\n",
       "Pclass         0\n",
       "Name           0\n",
       "Sex            0\n",
       "Age            0\n",
       "SibSp          0\n",
       "Parch          0\n",
       "Ticket         0\n",
       "Fare           0\n",
       "Cabin          0\n",
       "Embarked       0\n",
       "dtype: int64"
      ]
     },
     "execution_count": 4,
     "metadata": {},
     "output_type": "execute_result"
    }
   ],
   "source": [
    "modes = df.mode().iloc[0]\n",
    "df.fillna(modes, inplace=True)\n",
    "\n",
    "df.isna().sum()"
   ]
  },
  {
   "cell_type": "code",
   "execution_count": 5,
   "id": "72718033",
   "metadata": {
    "execution": {
     "iopub.execute_input": "2025-06-04T04:20:42.560585Z",
     "iopub.status.busy": "2025-06-04T04:20:42.560279Z",
     "iopub.status.idle": "2025-06-04T04:20:42.583241Z",
     "shell.execute_reply": "2025-06-04T04:20:42.582549Z"
    },
    "papermill": {
     "duration": 0.029651,
     "end_time": "2025-06-04T04:20:42.584435",
     "exception": false,
     "start_time": "2025-06-04T04:20:42.554784",
     "status": "completed"
    },
    "tags": []
   },
   "outputs": [
    {
     "data": {
      "text/html": [
       "<div>\n",
       "<style scoped>\n",
       "    .dataframe tbody tr th:only-of-type {\n",
       "        vertical-align: middle;\n",
       "    }\n",
       "\n",
       "    .dataframe tbody tr th {\n",
       "        vertical-align: top;\n",
       "    }\n",
       "\n",
       "    .dataframe thead th {\n",
       "        text-align: right;\n",
       "    }\n",
       "</style>\n",
       "<table border=\"1\" class=\"dataframe\">\n",
       "  <thead>\n",
       "    <tr style=\"text-align: right;\">\n",
       "      <th></th>\n",
       "      <th>PassengerId</th>\n",
       "      <th>Survived</th>\n",
       "      <th>Pclass</th>\n",
       "      <th>Age</th>\n",
       "      <th>SibSp</th>\n",
       "      <th>Parch</th>\n",
       "      <th>Fare</th>\n",
       "    </tr>\n",
       "  </thead>\n",
       "  <tbody>\n",
       "    <tr>\n",
       "      <th>count</th>\n",
       "      <td>891.000000</td>\n",
       "      <td>891.000000</td>\n",
       "      <td>891.000000</td>\n",
       "      <td>891.000000</td>\n",
       "      <td>891.000000</td>\n",
       "      <td>891.000000</td>\n",
       "      <td>891.000000</td>\n",
       "    </tr>\n",
       "    <tr>\n",
       "      <th>mean</th>\n",
       "      <td>446.000000</td>\n",
       "      <td>0.383838</td>\n",
       "      <td>2.308642</td>\n",
       "      <td>28.566970</td>\n",
       "      <td>0.523008</td>\n",
       "      <td>0.381594</td>\n",
       "      <td>32.204208</td>\n",
       "    </tr>\n",
       "    <tr>\n",
       "      <th>std</th>\n",
       "      <td>257.353842</td>\n",
       "      <td>0.486592</td>\n",
       "      <td>0.836071</td>\n",
       "      <td>13.199572</td>\n",
       "      <td>1.102743</td>\n",
       "      <td>0.806057</td>\n",
       "      <td>49.693429</td>\n",
       "    </tr>\n",
       "    <tr>\n",
       "      <th>min</th>\n",
       "      <td>1.000000</td>\n",
       "      <td>0.000000</td>\n",
       "      <td>1.000000</td>\n",
       "      <td>0.420000</td>\n",
       "      <td>0.000000</td>\n",
       "      <td>0.000000</td>\n",
       "      <td>0.000000</td>\n",
       "    </tr>\n",
       "    <tr>\n",
       "      <th>25%</th>\n",
       "      <td>223.500000</td>\n",
       "      <td>0.000000</td>\n",
       "      <td>2.000000</td>\n",
       "      <td>22.000000</td>\n",
       "      <td>0.000000</td>\n",
       "      <td>0.000000</td>\n",
       "      <td>7.910400</td>\n",
       "    </tr>\n",
       "    <tr>\n",
       "      <th>50%</th>\n",
       "      <td>446.000000</td>\n",
       "      <td>0.000000</td>\n",
       "      <td>3.000000</td>\n",
       "      <td>24.000000</td>\n",
       "      <td>0.000000</td>\n",
       "      <td>0.000000</td>\n",
       "      <td>14.454200</td>\n",
       "    </tr>\n",
       "    <tr>\n",
       "      <th>75%</th>\n",
       "      <td>668.500000</td>\n",
       "      <td>1.000000</td>\n",
       "      <td>3.000000</td>\n",
       "      <td>35.000000</td>\n",
       "      <td>1.000000</td>\n",
       "      <td>0.000000</td>\n",
       "      <td>31.000000</td>\n",
       "    </tr>\n",
       "    <tr>\n",
       "      <th>max</th>\n",
       "      <td>891.000000</td>\n",
       "      <td>1.000000</td>\n",
       "      <td>3.000000</td>\n",
       "      <td>80.000000</td>\n",
       "      <td>8.000000</td>\n",
       "      <td>6.000000</td>\n",
       "      <td>512.329200</td>\n",
       "    </tr>\n",
       "  </tbody>\n",
       "</table>\n",
       "</div>"
      ],
      "text/plain": [
       "       PassengerId    Survived      Pclass         Age       SibSp       Parch        Fare\n",
       "count   891.000000  891.000000  891.000000  891.000000  891.000000  891.000000  891.000000\n",
       "mean    446.000000    0.383838    2.308642   28.566970    0.523008    0.381594   32.204208\n",
       "std     257.353842    0.486592    0.836071   13.199572    1.102743    0.806057   49.693429\n",
       "min       1.000000    0.000000    1.000000    0.420000    0.000000    0.000000    0.000000\n",
       "25%     223.500000    0.000000    2.000000   22.000000    0.000000    0.000000    7.910400\n",
       "50%     446.000000    0.000000    3.000000   24.000000    0.000000    0.000000   14.454200\n",
       "75%     668.500000    1.000000    3.000000   35.000000    1.000000    0.000000   31.000000\n",
       "max     891.000000    1.000000    3.000000   80.000000    8.000000    6.000000  512.329200"
      ]
     },
     "execution_count": 5,
     "metadata": {},
     "output_type": "execute_result"
    }
   ],
   "source": [
    "import numpy as np\n",
    "\n",
    "df.describe(include=(np.number))"
   ]
  },
  {
   "cell_type": "markdown",
   "id": "26eb1829",
   "metadata": {
    "papermill": {
     "duration": 0.004586,
     "end_time": "2025-06-04T04:20:42.593997",
     "exception": false,
     "start_time": "2025-06-04T04:20:42.589411",
     "status": "completed"
    },
    "tags": []
   },
   "source": [
    "We can see that while fare has a mean of 32.2, it has some particularily large values. To avoid these values from dominating during matrix multiplication, we can take the logarithm of all fares. This makes the distribution more even."
   ]
  },
  {
   "cell_type": "code",
   "execution_count": 6,
   "id": "ec507663",
   "metadata": {
    "execution": {
     "iopub.execute_input": "2025-06-04T04:20:42.604442Z",
     "iopub.status.busy": "2025-06-04T04:20:42.604125Z",
     "iopub.status.idle": "2025-06-04T04:20:42.858004Z",
     "shell.execute_reply": "2025-06-04T04:20:42.857264Z"
    },
    "papermill": {
     "duration": 0.260575,
     "end_time": "2025-06-04T04:20:42.859209",
     "exception": false,
     "start_time": "2025-06-04T04:20:42.598634",
     "status": "completed"
    },
    "tags": []
   },
   "outputs": [
    {
     "data": {
      "image/png": "[encoded data removed]",
      "text/plain": [
       "<Figure size 640x480 with 1 Axes>"
      ]
     },
     "metadata": {},
     "output_type": "display_data"
    }
   ],
   "source": [
    "df['Fare'].hist();"
   ]
  },
  {
   "cell_type": "code",
   "execution_count": 7,
   "id": "c85e2a78",
   "metadata": {
    "execution": {
     "iopub.execute_input": "2025-06-04T04:20:42.870255Z",
     "iopub.status.busy": "2025-06-04T04:20:42.870044Z",
     "iopub.status.idle": "2025-06-04T04:20:43.022386Z",
     "shell.execute_reply": "2025-06-04T04:20:43.021571Z"
    },
    "papermill": {
     "duration": 0.159173,
     "end_time": "2025-06-04T04:20:43.023628",
     "exception": false,
     "start_time": "2025-06-04T04:20:42.864455",
     "status": "completed"
    },
    "tags": []
   },
   "outputs": [
    {
     "data": {
      "image/png": "[encoded data removed]",
      "text/plain": [
       "<Figure size 640x480 with 1 Axes>"
      ]
     },
     "metadata": {},
     "output_type": "display_data"
    }
   ],
   "source": [
    "df['LogFare'] = np.log(df['Fare']+1)\n",
    "df['LogFare'].hist();"
   ]
  },
  {
   "cell_type": "code",
   "execution_count": 8,
   "id": "d95e4520",
   "metadata": {
    "execution": {
     "iopub.execute_input": "2025-06-04T04:20:43.035745Z",
     "iopub.status.busy": "2025-06-04T04:20:43.035506Z",
     "iopub.status.idle": "2025-06-04T04:20:43.048285Z",
     "shell.execute_reply": "2025-06-04T04:20:43.047557Z"
    },
    "papermill": {
     "duration": 0.019987,
     "end_time": "2025-06-04T04:20:43.049393",
     "exception": false,
     "start_time": "2025-06-04T04:20:43.029406",
     "status": "completed"
    },
    "tags": []
   },
   "outputs": [
    {
     "data": {
      "text/plain": [
       "Index(['PassengerId', 'Survived', 'Name', 'Age', 'SibSp', 'Parch', 'Ticket', 'Fare', 'Cabin', 'LogFare', 'Sex_female', 'Sex_male',\n",
       "       'Pclass_1', 'Pclass_2', 'Pclass_3', 'Embarked_C', 'Embarked_Q', 'Embarked_S'],\n",
       "      dtype='object')"
      ]
     },
     "execution_count": 8,
     "metadata": {},
     "output_type": "execute_result"
    }
   ],
   "source": [
    "df = pd.get_dummies(df, columns=[\"Sex\",\"Pclass\",\"Embarked\"])\n",
    "df.columns"
   ]
  },
  {
   "cell_type": "code",
   "execution_count": 9,
   "id": "f1cac200",
   "metadata": {
    "execution": {
     "iopub.execute_input": "2025-06-04T04:20:43.060750Z",
     "iopub.status.busy": "2025-06-04T04:20:43.060529Z",
     "iopub.status.idle": "2025-06-04T04:20:43.071071Z",
     "shell.execute_reply": "2025-06-04T04:20:43.070435Z"
    },
    "papermill": {
     "duration": 0.017512,
     "end_time": "2025-06-04T04:20:43.072119",
     "exception": false,
     "start_time": "2025-06-04T04:20:43.054607",
     "status": "completed"
    },
    "tags": []
   },
   "outputs": [
    {
     "data": {
      "text/html": [
       "<div>\n",
       "<style scoped>\n",
       "    .dataframe tbody tr th:only-of-type {\n",
       "        vertical-align: middle;\n",
       "    }\n",
       "\n",
       "    .dataframe tbody tr th {\n",
       "        vertical-align: top;\n",
       "    }\n",
       "\n",
       "    .dataframe thead th {\n",
       "        text-align: right;\n",
       "    }\n",
       "</style>\n",
       "<table border=\"1\" class=\"dataframe\">\n",
       "  <thead>\n",
       "    <tr style=\"text-align: right;\">\n",
       "      <th></th>\n",
       "      <th>Sex_male</th>\n",
       "      <th>Sex_female</th>\n",
       "      <th>Pclass_1</th>\n",
       "      <th>Pclass_2</th>\n",
       "      <th>Pclass_3</th>\n",
       "      <th>Embarked_C</th>\n",
       "      <th>Embarked_Q</th>\n",
       "      <th>Embarked_S</th>\n",
       "    </tr>\n",
       "  </thead>\n",
       "  <tbody>\n",
       "    <tr>\n",
       "      <th>0</th>\n",
       "      <td>True</td>\n",
       "      <td>False</td>\n",
       "      <td>False</td>\n",
       "      <td>False</td>\n",
       "      <td>True</td>\n",
       "      <td>False</td>\n",
       "      <td>False</td>\n",
       "      <td>True</td>\n",
       "    </tr>\n",
       "    <tr>\n",
       "      <th>1</th>\n",
       "      <td>False</td>\n",
       "      <td>True</td>\n",
       "      <td>True</td>\n",
       "      <td>False</td>\n",
       "      <td>False</td>\n",
       "      <td>True</td>\n",
       "      <td>False</td>\n",
       "      <td>False</td>\n",
       "    </tr>\n",
       "    <tr>\n",
       "      <th>2</th>\n",
       "      <td>False</td>\n",
       "      <td>True</td>\n",
       "      <td>False</td>\n",
       "      <td>False</td>\n",
       "      <td>True</td>\n",
       "      <td>False</td>\n",
       "      <td>False</td>\n",
       "      <td>True</td>\n",
       "    </tr>\n",
       "    <tr>\n",
       "      <th>3</th>\n",
       "      <td>False</td>\n",
       "      <td>True</td>\n",
       "      <td>True</td>\n",
       "      <td>False</td>\n",
       "      <td>False</td>\n",
       "      <td>False</td>\n",
       "      <td>False</td>\n",
       "      <td>True</td>\n",
       "    </tr>\n",
       "    <tr>\n",
       "      <th>4</th>\n",
       "      <td>True</td>\n",
       "      <td>False</td>\n",
       "      <td>False</td>\n",
       "      <td>False</td>\n",
       "      <td>True</td>\n",
       "      <td>False</td>\n",
       "      <td>False</td>\n",
       "      <td>True</td>\n",
       "    </tr>\n",
       "  </tbody>\n",
       "</table>\n",
       "</div>"
      ],
      "text/plain": [
       "   Sex_male  Sex_female  Pclass_1  Pclass_2  Pclass_3  Embarked_C  Embarked_Q  Embarked_S\n",
       "0      True       False     False     False      True       False       False        True\n",
       "1     False        True      True     False     False        True       False       False\n",
       "2     False        True     False     False      True       False       False        True\n",
       "3     False        True      True     False     False       False       False        True\n",
       "4      True       False     False     False      True       False       False        True"
      ]
     },
     "execution_count": 9,
     "metadata": {},
     "output_type": "execute_result"
    }
   ],
   "source": [
    "added_cols = ['Sex_male', 'Sex_female', 'Pclass_1', 'Pclass_2', 'Pclass_3', 'Embarked_C', 'Embarked_Q', 'Embarked_S']\n",
    "df[added_cols].head()"
   ]
  },
  {
   "cell_type": "code",
   "execution_count": 10,
   "id": "e2f5d76b",
   "metadata": {
    "execution": {
     "iopub.execute_input": "2025-06-04T04:20:43.083400Z",
     "iopub.status.busy": "2025-06-04T04:20:43.083139Z",
     "iopub.status.idle": "2025-06-04T04:20:43.102890Z",
     "shell.execute_reply": "2025-06-04T04:20:43.102157Z"
    },
    "papermill": {
     "duration": 0.026656,
     "end_time": "2025-06-04T04:20:43.104093",
     "exception": false,
     "start_time": "2025-06-04T04:20:43.077437",
     "status": "completed"
    },
    "tags": []
   },
   "outputs": [],
   "source": [
    "from torch import tensor\n",
    "\n",
    "t_dep = tensor(df.Survived)"
   ]
  },
  {
   "cell_type": "code",
   "execution_count": 11,
   "id": "5d73882c",
   "metadata": {
    "execution": {
     "iopub.execute_input": "2025-06-04T04:20:43.118592Z",
     "iopub.status.busy": "2025-06-04T04:20:43.117763Z",
     "iopub.status.idle": "2025-06-04T04:20:43.215740Z",
     "shell.execute_reply": "2025-06-04T04:20:43.214912Z"
    },
    "papermill": {
     "duration": 0.105784,
     "end_time": "2025-06-04T04:20:43.217007",
     "exception": false,
     "start_time": "2025-06-04T04:20:43.111223",
     "status": "completed"
    },
    "tags": []
   },
   "outputs": [
    {
     "data": {
      "text/plain": [
       "tensor([[22.0000,  1.0000,  0.0000,  2.1102,  1.0000,  0.0000,  0.0000,  0.0000,  1.0000,  0.0000,  0.0000,  1.0000],\n",
       "        [38.0000,  1.0000,  0.0000,  4.2806,  0.0000,  1.0000,  1.0000,  0.0000,  0.0000,  1.0000,  0.0000,  0.0000],\n",
       "        [26.0000,  0.0000,  0.0000,  2.1889,  0.0000,  1.0000,  0.0000,  0.0000,  1.0000,  0.0000,  0.0000,  1.0000],\n",
       "        [35.0000,  1.0000,  0.0000,  3.9908,  0.0000,  1.0000,  1.0000,  0.0000,  0.0000,  0.0000,  0.0000,  1.0000],\n",
       "        [35.0000,  0.0000,  0.0000,  2.2028,  1.0000,  0.0000,  0.0000,  0.0000,  1.0000,  0.0000,  0.0000,  1.0000],\n",
       "        [24.0000,  0.0000,  0.0000,  2.2469,  1.0000,  0.0000,  0.0000,  0.0000,  1.0000,  0.0000,  1.0000,  0.0000],\n",
       "        [54.0000,  0.0000,  0.0000,  3.9677,  1.0000,  0.0000,  1.0000,  0.0000,  0.0000,  0.0000,  0.0000,  1.0000],\n",
       "        ...,\n",
       "        [25.0000,  0.0000,  0.0000,  2.0857,  1.0000,  0.0000,  0.0000,  0.0000,  1.0000,  0.0000,  0.0000,  1.0000],\n",
       "        [39.0000,  0.0000,  5.0000,  3.4054,  0.0000,  1.0000,  0.0000,  0.0000,  1.0000,  0.0000,  1.0000,  0.0000],\n",
       "        [27.0000,  0.0000,  0.0000,  2.6391,  1.0000,  0.0000,  0.0000,  1.0000,  0.0000,  0.0000,  0.0000,  1.0000],\n",
       "        [19.0000,  0.0000,  0.0000,  3.4340,  0.0000,  1.0000,  1.0000,  0.0000,  0.0000,  0.0000,  0.0000,  1.0000],\n",
       "        [24.0000,  1.0000,  2.0000,  3.1966,  0.0000,  1.0000,  0.0000,  0.0000,  1.0000,  0.0000,  0.0000,  1.0000],\n",
       "        [26.0000,  0.0000,  0.0000,  3.4340,  1.0000,  0.0000,  1.0000,  0.0000,  0.0000,  1.0000,  0.0000,  0.0000],\n",
       "        [32.0000,  0.0000,  0.0000,  2.1691,  1.0000,  0.0000,  0.0000,  0.0000,  1.0000,  0.0000,  1.0000,  0.0000]])"
      ]
     },
     "execution_count": 11,
     "metadata": {},
     "output_type": "execute_result"
    }
   ],
   "source": [
    "indep_cols = ['Age', 'SibSp', 'Parch', 'LogFare'] + added_cols\n",
    "\n",
    "df[indep_cols] = df[indep_cols].astype({col: 'int' for col in df[indep_cols].select_dtypes('bool').columns})\n",
    "\n",
    "t_indep = tensor(df[indep_cols].values, dtype=torch.float)\n",
    "t_indep"
   ]
  },
  {
   "cell_type": "markdown",
   "id": "211bbc17",
   "metadata": {
    "papermill": {
     "duration": 0.005191,
     "end_time": "2025-06-04T04:20:43.228459",
     "exception": false,
     "start_time": "2025-06-04T04:20:43.223268",
     "status": "completed"
    },
    "tags": []
   },
   "source": [
    "Create coefficients for every column in t_indep"
   ]
  },
  {
   "cell_type": "code",
   "execution_count": 12,
   "id": "5132ed07",
   "metadata": {
    "execution": {
     "iopub.execute_input": "2025-06-04T04:20:43.245435Z",
     "iopub.status.busy": "2025-06-04T04:20:43.245116Z",
     "iopub.status.idle": "2025-06-04T04:20:43.258360Z",
     "shell.execute_reply": "2025-06-04T04:20:43.257662Z"
    },
    "papermill": {
     "duration": 0.025137,
     "end_time": "2025-06-04T04:20:43.259726",
     "exception": false,
     "start_time": "2025-06-04T04:20:43.234589",
     "status": "completed"
    },
    "tags": []
   },
   "outputs": [
    {
     "data": {
      "text/plain": [
       "tensor([-0.4629,  0.1386,  0.2409, -0.2262, -0.2632, -0.3147,  0.4876,  0.3136,  0.2799, -0.4392,  0.2103,  0.3625])"
      ]
     },
     "execution_count": 12,
     "metadata": {},
     "output_type": "execute_result"
    }
   ],
   "source": [
    "torch.manual_seed(442)\n",
    "\n",
    "n_coeff = t_indep.shape[1]\n",
    "coeffs = torch.rand(n_coeff)-0.5\n",
    "coeffs"
   ]
  },
  {
   "cell_type": "markdown",
   "id": "66d8dfed",
   "metadata": {
    "papermill": {
     "duration": 0.009469,
     "end_time": "2025-06-04T04:20:43.279192",
     "exception": false,
     "start_time": "2025-06-04T04:20:43.269723",
     "status": "completed"
    },
    "tags": []
   },
   "source": [
    "Convert all data into integer between 0 and 1 by divided by the column's maximum"
   ]
  },
  {
   "cell_type": "code",
   "execution_count": 13,
   "id": "5a506674",
   "metadata": {
    "execution": {
     "iopub.execute_input": "2025-06-04T04:20:43.296968Z",
     "iopub.status.busy": "2025-06-04T04:20:43.296704Z",
     "iopub.status.idle": "2025-06-04T04:20:43.304391Z",
     "shell.execute_reply": "2025-06-04T04:20:43.303574Z"
    },
    "papermill": {
     "duration": 0.016852,
     "end_time": "2025-06-04T04:20:43.305846",
     "exception": false,
     "start_time": "2025-06-04T04:20:43.288994",
     "status": "completed"
    },
    "tags": []
   },
   "outputs": [],
   "source": [
    "vals,indices = t_indep.max(dim=0)\n",
    "t_indep = t_indep / vals"
   ]
  },
  {
   "cell_type": "markdown",
   "id": "4873ff6f",
   "metadata": {
    "papermill": {
     "duration": 0.009593,
     "end_time": "2025-06-04T04:20:43.325386",
     "exception": false,
     "start_time": "2025-06-04T04:20:43.315793",
     "status": "completed"
    },
    "tags": []
   },
   "source": [
    "Find predictions & calculate loss."
   ]
  },
  {
   "cell_type": "code",
   "execution_count": 14,
   "id": "78e492a4",
   "metadata": {
    "execution": {
     "iopub.execute_input": "2025-06-04T04:20:43.346407Z",
     "iopub.status.busy": "2025-06-04T04:20:43.346101Z",
     "iopub.status.idle": "2025-06-04T04:20:43.357726Z",
     "shell.execute_reply": "2025-06-04T04:20:43.356932Z"
    },
    "papermill": {
     "duration": 0.023712,
     "end_time": "2025-06-04T04:20:43.359131",
     "exception": false,
     "start_time": "2025-06-04T04:20:43.335419",
     "status": "completed"
    },
    "tags": []
   },
   "outputs": [
    {
     "name": "stdout",
     "output_type": "stream",
     "text": [
      "tensor(0.5112, grad_fn=<MeanBackward0>)\n"
     ]
    }
   ],
   "source": [
    "coeffs.requires_grad_()\n",
    "\n",
    "def calc_preds(coeffs, indeps): return torch.sigmoid((indeps*coeffs).sum(axis=1))\n",
    "def calc_loss(coeffs, indeps, deps): return torch.abs(calc_preds(coeffs, indeps)-deps).mean()\n",
    "\n",
    "loss = calc_loss(coeffs, t_indep, t_dep)\n",
    "print(loss)"
   ]
  },
  {
   "cell_type": "markdown",
   "id": "4a07a5ab",
   "metadata": {
    "papermill": {
     "duration": 0.010052,
     "end_time": "2025-06-04T04:20:43.379789",
     "exception": false,
     "start_time": "2025-06-04T04:20:43.369737",
     "status": "completed"
    },
    "tags": []
   },
   "source": [
    "Now, let's perform gradient descent to improve the linear model."
   ]
  },
  {
   "cell_type": "code",
   "execution_count": 15,
   "id": "e4553a44",
   "metadata": {
    "execution": {
     "iopub.execute_input": "2025-06-04T04:20:43.392070Z",
     "iopub.status.busy": "2025-06-04T04:20:43.391794Z",
     "iopub.status.idle": "2025-06-04T04:20:43.480631Z",
     "shell.execute_reply": "2025-06-04T04:20:43.479800Z"
    },
    "papermill": {
     "duration": 0.096515,
     "end_time": "2025-06-04T04:20:43.481974",
     "exception": false,
     "start_time": "2025-06-04T04:20:43.385459",
     "status": "completed"
    },
    "tags": []
   },
   "outputs": [
    {
     "name": "stdout",
     "output_type": "stream",
     "text": [
      "tensor(0.5092)\n"
     ]
    }
   ],
   "source": [
    "loss = calc_loss(coeffs, t_indep, t_dep)\n",
    "loss.backward()\n",
    "with torch.no_grad():\n",
    "    coeffs.sub_(coeffs.grad * 0.1)\n",
    "    coeffs.grad.zero_()\n",
    "    print(calc_loss(coeffs, t_indep, t_dep))"
   ]
  },
  {
   "cell_type": "markdown",
   "id": "1c3927f6",
   "metadata": {
    "papermill": {
     "duration": 0.005859,
     "end_time": "2025-06-04T04:20:43.494340",
     "exception": false,
     "start_time": "2025-06-04T04:20:43.488481",
     "status": "completed"
    },
    "tags": []
   },
   "source": [
    "Time to train the model; first, we must split the data into respective training and validation sets"
   ]
  },
  {
   "cell_type": "code",
   "execution_count": 16,
   "id": "8f73a7fb",
   "metadata": {
    "execution": {
     "iopub.execute_input": "2025-06-04T04:20:43.506630Z",
     "iopub.status.busy": "2025-06-04T04:20:43.506375Z",
     "iopub.status.idle": "2025-06-04T04:20:45.487932Z",
     "shell.execute_reply": "2025-06-04T04:20:45.487114Z"
    },
    "papermill": {
     "duration": 1.989733,
     "end_time": "2025-06-04T04:20:45.489639",
     "exception": false,
     "start_time": "2025-06-04T04:20:43.499906",
     "status": "completed"
    },
    "tags": []
   },
   "outputs": [],
   "source": [
    "from fastai.data.transforms import RandomSplitter\n",
    "trn_split,val_split=RandomSplitter(seed=42)(df)\n",
    "trn_indep,val_indep = t_indep[trn_split],t_indep[val_split]\n",
    "trn_dep,val_dep = t_dep[trn_split],t_dep[val_split]"
   ]
  },
  {
   "cell_type": "markdown",
   "id": "c2d33b5e",
   "metadata": {
    "papermill": {
     "duration": 0.005927,
     "end_time": "2025-06-04T04:20:45.503004",
     "exception": false,
     "start_time": "2025-06-04T04:20:45.497077",
     "status": "completed"
    },
    "tags": []
   },
   "source": [
    "First, create update_coeffs, one_epoch and init_coeffs function"
   ]
  },
  {
   "cell_type": "code",
   "execution_count": 17,
   "id": "80e65d2c",
   "metadata": {
    "execution": {
     "iopub.execute_input": "2025-06-04T04:20:45.515506Z",
     "iopub.status.busy": "2025-06-04T04:20:45.514680Z",
     "iopub.status.idle": "2025-06-04T04:20:45.518739Z",
     "shell.execute_reply": "2025-06-04T04:20:45.517996Z"
    },
    "papermill": {
     "duration": 0.011342,
     "end_time": "2025-06-04T04:20:45.519788",
     "exception": false,
     "start_time": "2025-06-04T04:20:45.508446",
     "status": "completed"
    },
    "tags": []
   },
   "outputs": [],
   "source": [
    "def update_coeffs(coeffs, lr):\n",
    "    coeffs.sub_(coeffs.grad * lr)\n",
    "    coeffs.grad.zero_()"
   ]
  },
  {
   "cell_type": "code",
   "execution_count": 18,
   "id": "de1b4922",
   "metadata": {
    "execution": {
     "iopub.execute_input": "2025-06-04T04:20:45.532133Z",
     "iopub.status.busy": "2025-06-04T04:20:45.531502Z",
     "iopub.status.idle": "2025-06-04T04:20:45.535567Z",
     "shell.execute_reply": "2025-06-04T04:20:45.534997Z"
    },
    "papermill": {
     "duration": 0.011275,
     "end_time": "2025-06-04T04:20:45.536736",
     "exception": false,
     "start_time": "2025-06-04T04:20:45.525461",
     "status": "completed"
    },
    "tags": []
   },
   "outputs": [],
   "source": [
    "def one_epoch(coeffs, lr):\n",
    "    loss = calc_loss(coeffs, trn_indep, trn_dep)\n",
    "    loss.backward()\n",
    "    with torch.no_grad(): update_coeffs(coeffs, lr)\n",
    "    print(f\"{loss:.3f}\", end=\"; \")"
   ]
  },
  {
   "cell_type": "code",
   "execution_count": 19,
   "id": "301a920e",
   "metadata": {
    "execution": {
     "iopub.execute_input": "2025-06-04T04:20:45.549111Z",
     "iopub.status.busy": "2025-06-04T04:20:45.548633Z",
     "iopub.status.idle": "2025-06-04T04:20:45.552389Z",
     "shell.execute_reply": "2025-06-04T04:20:45.551525Z"
    },
    "papermill": {
     "duration": 0.01096,
     "end_time": "2025-06-04T04:20:45.553573",
     "exception": false,
     "start_time": "2025-06-04T04:20:45.542613",
     "status": "completed"
    },
    "tags": []
   },
   "outputs": [],
   "source": [
    "def init_coeffs(): return (torch.rand(n_coeff)-0.5).requires_grad_()"
   ]
  },
  {
   "cell_type": "markdown",
   "id": "82127cf2",
   "metadata": {
    "papermill": {
     "duration": 0.0056,
     "end_time": "2025-06-04T04:20:45.564969",
     "exception": false,
     "start_time": "2025-06-04T04:20:45.559369",
     "status": "completed"
    },
    "tags": []
   },
   "source": [
    "Now we can assemble a function that trains the linear model."
   ]
  },
  {
   "cell_type": "code",
   "execution_count": 20,
   "id": "f263f0ad",
   "metadata": {
    "execution": {
     "iopub.execute_input": "2025-06-04T04:20:45.577256Z",
     "iopub.status.busy": "2025-06-04T04:20:45.576986Z",
     "iopub.status.idle": "2025-06-04T04:20:45.581033Z",
     "shell.execute_reply": "2025-06-04T04:20:45.580359Z"
    },
    "papermill": {
     "duration": 0.011491,
     "end_time": "2025-06-04T04:20:45.582167",
     "exception": false,
     "start_time": "2025-06-04T04:20:45.570676",
     "status": "completed"
    },
    "tags": []
   },
   "outputs": [],
   "source": [
    "def train_model(epochs=30, lr=0.01):\n",
    "    torch.manual_seed(442)\n",
    "    coeffs = init_coeffs()\n",
    "    for i in range(epochs): one_epoch(coeffs, lr=lr)\n",
    "    return coeffs"
   ]
  },
  {
   "cell_type": "markdown",
   "id": "63959661",
   "metadata": {
    "papermill": {
     "duration": 0.005202,
     "end_time": "2025-06-04T04:20:45.592872",
     "exception": false,
     "start_time": "2025-06-04T04:20:45.587670",
     "status": "completed"
    },
    "tags": []
   },
   "source": [
    "Train model. I found lr=0.34 returns the best accuracy for this linear model."
   ]
  },
  {
   "cell_type": "code",
   "execution_count": 21,
   "id": "611121ae",
   "metadata": {
    "execution": {
     "iopub.execute_input": "2025-06-04T04:20:45.605703Z",
     "iopub.status.busy": "2025-06-04T04:20:45.605067Z",
     "iopub.status.idle": "2025-06-04T04:20:45.622968Z",
     "shell.execute_reply": "2025-06-04T04:20:45.622389Z"
    },
    "papermill": {
     "duration": 0.025202,
     "end_time": "2025-06-04T04:20:45.623952",
     "exception": false,
     "start_time": "2025-06-04T04:20:45.598750",
     "status": "completed"
    },
    "tags": []
   },
   "outputs": [
    {
     "name": "stdout",
     "output_type": "stream",
     "text": [
      "0.510; 0.327; 0.301; 0.211; 0.202; 0.198; 0.197; 0.197; 0.196; 0.196; 0.195; 0.195; 0.195; 0.195; 0.195; 0.195; 0.194; 0.194; "
     ]
    },
    {
     "data": {
      "text/plain": [
       "{'Age': tensor(-1.6269),\n",
       " 'SibSp': tensor(-0.8522),\n",
       " 'Parch': tensor(-0.1810),\n",
       " 'LogFare': tensor(0.2116),\n",
       " 'Sex_male': tensor(-10.7813),\n",
       " 'Sex_female': tensor(8.3944),\n",
       " 'Pclass_1': tensor(3.8435),\n",
       " 'Pclass_2': tensor(1.6611),\n",
       " 'Pclass_3': tensor(-6.2325),\n",
       " 'Embarked_C': tensor(1.1977),\n",
       " 'Embarked_Q': tensor(1.6803),\n",
       " 'Embarked_S': tensor(-4.5533)}"
      ]
     },
     "execution_count": 21,
     "metadata": {},
     "output_type": "execute_result"
    }
   ],
   "source": [
    "coeffs = train_model(18, lr=105)\n",
    "def show_coeffs(): return dict(zip(indep_cols, coeffs.requires_grad_(False)))\n",
    "show_coeffs()"
   ]
  },
  {
   "cell_type": "markdown",
   "id": "8a252f09",
   "metadata": {
    "papermill": {
     "duration": 0.005313,
     "end_time": "2025-06-04T04:20:45.635024",
     "exception": false,
     "start_time": "2025-06-04T04:20:45.629711",
     "status": "completed"
    },
    "tags": []
   },
   "source": [
    "Calculate absolute error (the loss function)"
   ]
  },
  {
   "cell_type": "code",
   "execution_count": 22,
   "id": "ce0abeb5",
   "metadata": {
    "execution": {
     "iopub.execute_input": "2025-06-04T04:20:45.647335Z",
     "iopub.status.busy": "2025-06-04T04:20:45.646778Z",
     "iopub.status.idle": "2025-06-04T04:20:45.652933Z",
     "shell.execute_reply": "2025-06-04T04:20:45.652352Z"
    },
    "papermill": {
     "duration": 0.013362,
     "end_time": "2025-06-04T04:20:45.653975",
     "exception": false,
     "start_time": "2025-06-04T04:20:45.640613",
     "status": "completed"
    },
    "tags": []
   },
   "outputs": [
    {
     "data": {
      "text/plain": [
       "tensor(0.8258)"
      ]
     },
     "execution_count": 22,
     "metadata": {},
     "output_type": "execute_result"
    }
   ],
   "source": [
    "def acc(coeffs): return (val_dep.bool()==(calc_preds(coeffs, val_indep)>0.5)).float().mean()\n",
    "acc(coeffs)"
   ]
  },
  {
   "cell_type": "markdown",
   "id": "ed08fd72",
   "metadata": {
    "papermill": {
     "duration": 0.005382,
     "end_time": "2025-06-04T04:20:45.665290",
     "exception": false,
     "start_time": "2025-06-04T04:20:45.659908",
     "status": "completed"
    },
    "tags": []
   },
   "source": [
    "I noticed that when testing for learning ranges (iterating 1-100) with a sigmoid function, the loss remains the same throughout.  "
   ]
  },
  {
   "cell_type": "code",
   "execution_count": 23,
   "id": "120874c4",
   "metadata": {
    "execution": {
     "iopub.execute_input": "2025-06-04T04:20:45.734707Z",
     "iopub.status.busy": "2025-06-04T04:20:45.734092Z",
     "iopub.status.idle": "2025-06-04T04:20:47.129732Z",
     "shell.execute_reply": "2025-06-04T04:20:47.128968Z"
    },
    "papermill": {
     "duration": 1.403707,
     "end_time": "2025-06-04T04:20:47.131014",
     "exception": false,
     "start_time": "2025-06-04T04:20:45.727307",
     "status": "completed"
    },
    "tags": []
   },
   "outputs": [
    {
     "name": "stdout",
     "output_type": "stream",
     "text": [
      "0.510; 0.510; 0.510; 0.510; 0.510; 0.510; 0.510; 0.510; 0.510; 0.510; 0.510; 0.510; 0.510; 0.510; 0.510; 0.510; 0.510; 0.510; 0.510; 0.489; 0.468; 0.449; 0.431; 0.416; 0.402; 0.391; 0.381; 0.372; 0.365; 0.358; 0.352; 0.346; 0.341; 0.336; 0.331; 0.327; 0.510; 0.468; 0.430; 0.401; 0.379; 0.363; 0.350; 0.340; 0.330; 0.322; 0.315; 0.308; 0.302; 0.296; 0.291; 0.286; 0.282; 0.278; 0.510; 0.448; 0.399; 0.369; 0.349; 0.334; 0.321; 0.310; 0.301; 0.293; 0.285; 0.279; 0.274; 0.269; 0.265; 0.261; 0.258; 0.255; 0.510; 0.429; 0.376; 0.348; 0.329; 0.313; 0.300; 0.289; 0.281; 0.273; 0.267; 0.262; 0.258; 0.254; 0.251; 0.248; 0.246; 0.244; 0.510; 0.412; 0.359; 0.332; 0.313; 0.297; 0.284; 0.274; 0.267; 0.260; 0.255; 0.251; 0.248; 0.245; 0.242; 0.240; 0.238; 0.237; 0.510; 0.396; 0.345; 0.319; 0.299; 0.284; 0.272; 0.263; 0.257; 0.252; 0.248; 0.244; 0.241; 0.239; 0.237; 0.235; 0.233; 0.232; 0.510; 0.382; 0.335; 0.308; 0.288; 0.273; 0.263; 0.255; 0.250; 0.245; 0.242; 0.239; 0.237; 0.234; 0.233; 0.231; 0.230; 0.229; 0.510; 0.370; 0.326; 0.298; 0.278; 0.265; 0.256; 0.249; 0.245; 0.241; 0.238; 0.235; 0.233; 0.231; 0.230; 0.228; 0.227; 0.226; 0.510; 0.360; 0.318; 0.289; 0.270; 0.259; 0.251; 0.245; 0.240; 0.237; 0.234; 0.232; 0.230; 0.229; 0.227; 0.226; 0.225; 0.224; 0.510; 0.351; 0.310; 0.282; 0.264; 0.253; 0.246; 0.241; 0.237; 0.234; 0.232; 0.230; 0.228; 0.226; 0.225; 0.224; 0.223; 0.222; 0.510; 0.344; 0.303; 0.275; 0.259; 0.249; 0.243; 0.238; 0.234; 0.232; 0.229; 0.228; 0.226; 0.225; 0.224; 0.222; 0.222; 0.221; 0.510; 0.337; 0.297; 0.269; 0.254; 0.246; 0.240; 0.235; 0.232; 0.230; 0.228; 0.226; 0.225; 0.223; 0.222; 0.221; 0.220; 0.219; 0.510; 0.332; 0.291; 0.264; 0.250; 0.243; 0.237; 0.233; 0.230; 0.228; 0.226; 0.224; 0.223; 0.222; 0.221; 0.220; 0.219; 0.218; 0.510; 0.328; 0.285; 0.259; 0.247; 0.240; 0.235; 0.231; 0.229; 0.226; 0.225; 0.223; 0.222; 0.221; 0.220; 0.219; 0.218; 0.217; 0.510; 0.324; 0.279; 0.255; 0.244; 0.238; 0.233; 0.230; 0.227; 0.225; 0.223; 0.222; 0.221; 0.220; 0.219; 0.218; 0.217; 0.216; 0.510; 0.322; 0.274; 0.252; 0.242; 0.236; 0.231; 0.228; 0.226; 0.224; 0.222; 0.221; 0.220; 0.219; 0.218; 0.217; 0.216; 0.215; 0.510; 0.319; 0.269; 0.249; 0.239; 0.234; 0.230; 0.227; 0.225; 0.223; 0.221; 0.220; 0.219; 0.218; 0.217; 0.216; 0.215; 0.215; 0.510; 0.317; 0.264; 0.246; 0.237; 0.232; 0.228; 0.226; 0.224; 0.222; 0.220; 0.219; 0.218; 0.217; 0.216; 0.215; 0.214; 0.214; 0.510; 0.316; 0.260; 0.243; 0.235; 0.231; 0.227; 0.225; 0.223; 0.221; 0.220; 0.218; 0.217; 0.216; 0.215; 0.214; 0.214; 0.213; 0.510; 0.315; 0.256; 0.241; 0.234; 0.229; 0.226; 0.224; 0.222; 0.220; 0.219; 0.218; 0.216; 0.215; 0.215; 0.214; 0.213; 0.212; 0.510; 0.314; 0.253; 0.239; 0.232; 0.228; 0.225; 0.223; 0.221; 0.219; 0.218; 0.217; 0.216; 0.215; 0.214; 0.213; 0.212; 0.211; 0.510; 0.314; 0.249; 0.237; 0.231; 0.227; 0.224; 0.222; 0.220; 0.218; 0.217; 0.216; 0.215; 0.214; 0.213; 0.212; 0.211; 0.211; 0.510; 0.313; 0.246; 0.235; 0.229; 0.226; 0.223; 0.221; 0.219; 0.218; 0.216; 0.215; 0.214; 0.213; 0.212; 0.212; 0.211; 0.210; 0.510; 0.313; 0.244; 0.233; 0.228; 0.224; 0.222; 0.220; 0.218; 0.217; 0.216; 0.215; 0.214; 0.213; 0.212; 0.211; 0.210; 0.209; 0.510; 0.313; 0.241; 0.231; 0.227; 0.223; 0.221; 0.219; 0.218; 0.216; 0.215; 0.214; 0.213; 0.212; 0.211; 0.210; 0.210; 0.209; 0.510; 0.313; 0.239; 0.230; 0.225; 0.222; 0.220; 0.218; 0.217; 0.216; 0.214; 0.213; 0.212; 0.211; 0.210; 0.210; 0.209; 0.208; 0.510; 0.313; 0.237; 0.228; 0.224; 0.221; 0.219; 0.218; 0.216; 0.215; 0.214; 0.213; 0.212; 0.211; 0.210; 0.209; 0.208; 0.208; 0.510; 0.313; 0.235; 0.227; 0.223; 0.221; 0.219; 0.217; 0.215; 0.214; 0.213; 0.212; 0.211; 0.210; 0.209; 0.209; 0.208; 0.207; 0.510; 0.313; 0.233; 0.225; 0.222; 0.220; 0.218; 0.216; 0.215; 0.213; 0.212; 0.211; 0.210; 0.210; 0.209; 0.208; 0.207; 0.207; 0.510; 0.313; 0.232; 0.224; 0.221; 0.219; 0.217; 0.215; 0.214; 0.213; 0.212; 0.211; 0.210; 0.209; 0.208; 0.207; 0.207; 0.206; 0.510; 0.313; 0.230; 0.223; 0.220; 0.218; 0.216; 0.215; 0.213; 0.212; 0.211; 0.210; 0.209; 0.208; 0.208; 0.207; 0.206; 0.206; 0.510; 0.314; 0.229; 0.222; 0.219; 0.217; 0.216; 0.214; 0.213; 0.212; 0.211; 0.210; 0.209; 0.208; 0.207; 0.207; 0.206; 0.205; 0.510; 0.314; 0.228; 0.221; 0.218; 0.216; 0.215; 0.213; 0.212; 0.211; 0.210; 0.209; 0.208; 0.207; 0.207; 0.206; 0.205; 0.205; 0.510; 0.314; 0.227; 0.220; 0.218; 0.216; 0.214; 0.213; 0.212; 0.210; 0.209; 0.208; 0.208; 0.207; 0.206; 0.206; 0.205; 0.205; 0.510; 0.315; 0.226; 0.219; 0.217; 0.215; 0.214; 0.212; 0.211; 0.210; 0.209; 0.208; 0.207; 0.206; 0.206; 0.205; 0.205; 0.204; 0.510; 0.315; 0.225; 0.218; 0.216; 0.214; 0.213; 0.212; 0.210; 0.209; 0.208; 0.207; 0.207; 0.206; 0.205; 0.205; 0.204; 0.204; 0.510; 0.315; 0.225; 0.218; 0.215; 0.214; 0.212; 0.211; 0.210; 0.209; 0.208; 0.207; 0.206; 0.206; 0.205; 0.204; 0.204; 0.203; 0.510; 0.316; 0.224; 0.217; 0.215; 0.213; 0.212; 0.210; 0.209; 0.208; 0.207; 0.207; 0.206; 0.205; 0.205; 0.204; 0.204; 0.203; 0.510; 0.316; 0.224; 0.216; 0.214; 0.213; 0.211; 0.210; 0.209; 0.208; 0.207; 0.206; 0.205; 0.205; 0.204; 0.204; 0.203; 0.203; 0.510; 0.316; 0.223; 0.215; 0.214; 0.212; 0.211; 0.209; 0.208; 0.207; 0.206; 0.206; 0.205; 0.204; 0.204; 0.203; 0.203; 0.202; 0.510; 0.317; 0.223; 0.215; 0.213; 0.211; 0.210; 0.209; 0.208; 0.207; 0.206; 0.205; 0.205; 0.204; 0.203; 0.203; 0.202; 0.202; 0.510; 0.317; 0.223; 0.214; 0.212; 0.211; 0.210; 0.208; 0.207; 0.206; 0.206; 0.205; 0.204; 0.204; 0.203; 0.203; 0.202; 0.202; 0.510; 0.317; 0.222; 0.214; 0.212; 0.210; 0.209; 0.208; 0.207; 0.206; 0.205; 0.204; 0.204; 0.203; 0.203; 0.202; 0.202; 0.201; 0.510; 0.318; 0.222; 0.213; 0.211; 0.210; 0.209; 0.207; 0.206; 0.206; 0.205; 0.204; 0.203; 0.203; 0.202; 0.202; 0.202; 0.201; 0.510; 0.318; 0.222; 0.213; 0.211; 0.209; 0.208; 0.207; 0.206; 0.205; 0.204; 0.204; 0.203; 0.203; 0.202; 0.202; 0.201; 0.201; 0.510; 0.318; 0.222; 0.212; 0.210; 0.209; 0.208; 0.207; 0.206; 0.205; 0.204; 0.203; 0.203; 0.202; 0.202; 0.201; 0.201; 0.201; 0.510; 0.319; 0.222; 0.212; 0.210; 0.209; 0.207; 0.206; 0.205; 0.204; 0.204; 0.203; 0.203; 0.202; 0.202; 0.201; 0.201; 0.200; 0.510; 0.319; 0.223; 0.211; 0.210; 0.208; 0.207; 0.206; 0.205; 0.204; 0.203; 0.203; 0.202; 0.202; 0.201; 0.201; 0.201; 0.200; 0.510; 0.319; 0.223; 0.211; 0.209; 0.208; 0.206; 0.205; 0.205; 0.204; 0.203; 0.202; 0.202; 0.201; 0.201; 0.201; 0.200; 0.200; 0.510; 0.319; 0.223; 0.210; 0.209; 0.207; 0.206; 0.205; 0.204; 0.203; 0.203; 0.202; 0.202; 0.201; 0.201; 0.200; 0.200; 0.200; 0.510; 0.320; 0.224; 0.210; 0.208; 0.207; 0.206; 0.205; 0.204; 0.203; 0.202; 0.202; 0.201; 0.201; 0.200; 0.200; 0.200; 0.200; 0.510; 0.320; 0.224; 0.210; 0.208; 0.207; 0.205; 0.204; 0.204; 0.203; 0.202; 0.202; 0.201; 0.201; 0.200; 0.200; 0.200; 0.199; 0.510; 0.320; 0.225; 0.210; 0.208; 0.206; 0.205; 0.204; 0.203; 0.202; 0.202; 0.201; 0.201; 0.200; 0.200; 0.200; 0.199; 0.199; 0.510; 0.321; 0.225; 0.209; 0.207; 0.206; 0.205; 0.204; 0.203; 0.202; 0.202; 0.201; 0.201; 0.200; 0.200; 0.199; 0.199; 0.199; 0.510; 0.321; 0.226; 0.209; 0.207; 0.206; 0.204; 0.203; 0.203; 0.202; 0.201; 0.201; 0.200; 0.200; 0.200; 0.199; 0.199; 0.199; 0.510; 0.321; 0.227; 0.209; 0.207; 0.205; 0.204; 0.203; 0.202; 0.202; 0.201; 0.201; 0.200; 0.200; 0.199; 0.199; 0.199; 0.198; 0.510; 0.321; 0.227; 0.208; 0.206; 0.205; 0.204; 0.203; 0.202; 0.201; 0.201; 0.200; 0.200; 0.199; 0.199; 0.199; 0.199; 0.198; 0.510; 0.322; 0.228; 0.208; 0.206; 0.205; 0.204; 0.203; 0.202; 0.201; 0.201; 0.200; 0.200; 0.199; 0.199; 0.199; 0.198; 0.198; 0.510; 0.322; 0.229; 0.208; 0.206; 0.204; 0.203; 0.202; 0.202; 0.201; 0.200; 0.200; 0.199; 0.199; 0.199; 0.198; 0.198; 0.198; 0.510; 0.322; 0.230; 0.208; 0.206; 0.204; 0.203; 0.202; 0.201; 0.201; 0.200; 0.200; 0.199; 0.199; 0.199; 0.198; 0.198; 0.198; 0.510; 0.322; 0.231; 0.208; 0.205; 0.204; 0.203; 0.202; 0.201; 0.200; 0.200; 0.199; 0.199; 0.199; 0.198; 0.198; 0.198; 0.198; 0.510; 0.322; 0.232; 0.208; 0.205; 0.204; 0.203; 0.202; 0.201; 0.200; 0.200; 0.199; 0.199; 0.199; 0.198; 0.198; 0.198; 0.197; 0.510; 0.323; 0.233; 0.207; 0.205; 0.203; 0.202; 0.201; 0.201; 0.200; 0.199; 0.199; 0.199; 0.198; 0.198; 0.198; 0.198; 0.197; 0.510; 0.323; 0.235; 0.207; 0.205; 0.203; 0.202; 0.201; 0.200; 0.200; 0.199; 0.199; 0.198; 0.198; 0.198; 0.198; 0.197; 0.197; 0.510; 0.323; 0.236; 0.207; 0.205; 0.203; 0.202; 0.201; 0.200; 0.200; 0.199; 0.199; 0.198; 0.198; 0.198; 0.197; 0.197; 0.197; 0.510; 0.323; 0.237; 0.207; 0.205; 0.203; 0.202; 0.201; 0.200; 0.199; 0.199; 0.199; 0.198; 0.198; 0.198; 0.197; 0.197; 0.197; 0.510; 0.323; 0.239; 0.207; 0.204; 0.203; 0.201; 0.201; 0.200; 0.199; 0.199; 0.198; 0.198; 0.198; 0.197; 0.197; 0.197; 0.197; 0.510; 0.323; 0.240; 0.207; 0.204; 0.203; 0.201; 0.200; 0.200; 0.199; 0.199; 0.198; 0.198; 0.198; 0.197; 0.197; 0.197; 0.197; 0.510; 0.324; 0.242; 0.207; 0.204; 0.202; 0.201; 0.200; 0.199; 0.199; 0.198; 0.198; 0.198; 0.197; 0.197; 0.197; 0.197; 0.197; 0.510; 0.324; 0.243; 0.207; 0.204; 0.202; 0.201; 0.200; 0.199; 0.199; 0.198; 0.198; 0.198; 0.197; 0.197; 0.197; 0.197; 0.196; 0.510; 0.324; 0.245; 0.207; 0.204; 0.202; 0.201; 0.200; 0.199; 0.199; 0.198; 0.198; 0.197; 0.197; 0.197; 0.197; 0.196; 0.196; 0.510; 0.324; 0.246; 0.207; 0.204; 0.202; 0.201; 0.200; 0.199; 0.198; 0.198; 0.198; 0.197; 0.197; 0.197; 0.197; 0.196; 0.196; 0.510; 0.324; 0.248; 0.206; 0.204; 0.202; 0.200; 0.200; 0.199; 0.198; 0.198; 0.197; 0.197; 0.197; 0.197; 0.196; 0.196; 0.196; 0.510; 0.324; 0.249; 0.206; 0.203; 0.202; 0.200; 0.199; 0.199; 0.198; 0.198; 0.197; 0.197; 0.197; 0.197; 0.196; 0.196; 0.196; 0.510; 0.324; 0.251; 0.206; 0.203; 0.202; 0.200; 0.199; 0.199; 0.198; 0.198; 0.197; 0.197; 0.197; 0.196; 0.196; 0.196; 0.196; 0.510; 0.325; 0.253; 0.206; 0.203; 0.201; 0.200; 0.199; 0.198; 0.198; 0.197; 0.197; 0.197; 0.197; 0.196; 0.196; 0.196; 0.196; 0.510; 0.325; 0.255; 0.206; 0.203; 0.201; 0.200; 0.199; 0.198; 0.198; 0.197; 0.197; 0.197; 0.196; 0.196; 0.196; 0.196; 0.196; 0.510; 0.325; 0.256; 0.206; 0.203; 0.201; 0.200; 0.199; 0.198; 0.198; 0.197; 0.197; 0.197; 0.196; 0.196; 0.196; 0.196; 0.196; 0.510; 0.325; 0.258; 0.206; 0.203; 0.201; 0.200; 0.199; 0.198; 0.198; 0.197; 0.197; 0.197; 0.196; 0.196; 0.196; 0.196; 0.196; 0.510; 0.325; 0.260; 0.206; 0.203; 0.201; 0.200; 0.199; 0.198; 0.197; 0.197; 0.197; 0.196; 0.196; 0.196; 0.196; 0.196; 0.195; 0.510; 0.325; 0.262; 0.205; 0.203; 0.201; 0.199; 0.199; 0.198; 0.197; 0.197; 0.197; 0.196; 0.196; 0.196; 0.196; 0.196; 0.195; 0.510; 0.325; 0.264; 0.205; 0.203; 0.201; 0.199; 0.198; 0.198; 0.197; 0.197; 0.197; 0.196; 0.196; 0.196; 0.196; 0.195; 0.195; 0.510; 0.325; 0.265; 0.205; 0.202; 0.201; 0.199; 0.198; 0.198; 0.197; 0.197; 0.196; 0.196; 0.196; 0.196; 0.196; 0.195; 0.195; 0.510; 0.325; 0.267; 0.205; 0.202; 0.200; 0.199; 0.198; 0.198; 0.197; 0.197; 0.196; 0.196; 0.196; 0.196; 0.196; 0.195; 0.195; 0.510; 0.326; 0.269; 0.205; 0.202; 0.200; 0.199; 0.198; 0.197; 0.197; 0.197; 0.196; 0.196; 0.196; 0.196; 0.195; 0.195; 0.195; 0.510; 0.326; 0.271; 0.205; 0.202; 0.200; 0.199; 0.198; 0.197; 0.197; 0.197; 0.196; 0.196; 0.196; 0.196; 0.195; 0.195; 0.195; 0.510; 0.326; 0.273; 0.205; 0.202; 0.200; 0.199; 0.198; 0.197; 0.197; 0.196; 0.196; 0.196; 0.196; 0.195; 0.195; 0.195; 0.195; 0.510; 0.326; 0.275; 0.205; 0.202; 0.200; 0.199; 0.198; 0.197; 0.197; 0.196; 0.196; 0.196; 0.196; 0.195; 0.195; 0.195; 0.195; 0.510; 0.326; 0.276; 0.205; 0.202; 0.200; 0.199; 0.198; 0.197; 0.197; 0.196; 0.196; 0.196; 0.196; 0.195; 0.195; 0.195; 0.195; 0.510; 0.326; 0.278; 0.205; 0.202; 0.200; 0.199; 0.198; 0.197; 0.197; 0.196; 0.196; 0.196; 0.196; 0.195; 0.195; 0.195; 0.195; 0.510; 0.326; 0.280; 0.205; 0.202; 0.200; 0.198; 0.198; 0.197; 0.197; 0.196; 0.196; 0.196; 0.195; 0.195; 0.195; 0.195; 0.195; 0.510; 0.326; 0.281; 0.205; 0.201; 0.200; 0.198; 0.198; 0.197; 0.197; 0.196; 0.196; 0.196; 0.195; 0.195; 0.195; 0.195; 0.195; 0.510; 0.326; 0.283; 0.205; 0.201; 0.199; 0.198; 0.197; 0.197; 0.196; 0.196; 0.196; 0.196; 0.195; 0.195; 0.195; 0.195; 0.195; 0.510; 0.326; 0.285; 0.205; 0.201; 0.199; 0.198; 0.197; 0.197; 0.196; 0.196; 0.196; 0.196; 0.195; 0.195; 0.195; 0.195; 0.195; 0.510; 0.326; 0.286; 0.205; 0.201; 0.199; 0.198; 0.197; 0.197; 0.196; 0.196; 0.196; 0.195; 0.195; 0.195; 0.195; 0.195; 0.195; 0.510; 0.326; 0.288; 0.206; 0.201; 0.199; 0.198; 0.197; 0.197; 0.196; 0.196; 0.196; 0.195; 0.195; 0.195; 0.195; 0.195; 0.195; 0.510; 0.326; 0.290; 0.206; 0.201; 0.199; 0.198; 0.197; 0.197; 0.196; 0.196; 0.196; 0.195; 0.195; 0.195; 0.195; 0.195; 0.195; 0.510; 0.326; 0.291; 0.206; 0.201; 0.199; 0.198; 0.197; 0.197; 0.196; 0.196; 0.196; 0.195; 0.195; 0.195; 0.195; 0.195; 0.195; 0.510; 0.327; 0.293; 0.207; 0.201; 0.199; 0.198; 0.197; 0.197; 0.196; 0.196; 0.196; 0.195; 0.195; 0.195; 0.195; 0.195; 0.195; 0.510; 0.327; 0.294; 0.207; 0.201; 0.199; 0.198; 0.197; 0.196; 0.196; 0.196; 0.195; 0.195; 0.195; 0.195; 0.195; 0.195; 0.195; 0.510; 0.327; 0.296; 0.208; 0.201; 0.199; 0.198; 0.197; 0.196; 0.196; 0.196; 0.195; 0.195; 0.195; 0.195; 0.195; 0.195; 0.195; 0.510; 0.327; 0.297; 0.209; 0.201; 0.199; 0.198; 0.197; 0.196; 0.196; 0.196; 0.195; 0.195; 0.195; 0.195; 0.195; 0.195; 0.194; 0.510; 0.327; 0.298; 0.209; 0.202; 0.199; 0.197; 0.197; 0.196; 0.196; 0.196; 0.195; 0.195; 0.195; 0.195; 0.195; 0.195; 0.194; 0.510; 0.327; 0.300; 0.210; 0.202; 0.198; 0.197; 0.197; 0.196; 0.196; 0.196; 0.195; 0.195; 0.195; 0.195; 0.195; 0.195; 0.194; 0.510; 0.327; 0.301; 0.211; 0.202; 0.198; 0.197; 0.197; 0.196; 0.196; 0.195; 0.195; 0.195; 0.195; 0.195; 0.195; 0.194; 0.194; 0.510; 0.327; 0.302; 0.212; 0.202; 0.198; 0.197; 0.197; 0.196; 0.196; 0.195; 0.195; 0.195; 0.195; 0.195; 0.195; 0.194; 0.194; 0.510; 0.327; 0.303; 0.213; 0.203; 0.198; 0.197; 0.197; 0.196; 0.196; 0.195; 0.195; 0.195; 0.195; 0.195; 0.195; 0.194; 0.194; 0.510; 0.327; 0.304; 0.214; 0.203; 0.198; 0.197; 0.196; 0.196; 0.196; 0.195; 0.195; 0.195; 0.195; 0.195; 0.194; 0.194; 0.194; 0.510; 0.327; 0.306; 0.215; 0.203; 0.198; 0.197; 0.196; 0.196; 0.196; 0.195; 0.195; 0.195; 0.195; 0.195; 0.194; 0.194; 0.194; 0.510; 0.327; 0.307; 0.217; 0.204; 0.198; 0.197; 0.196; 0.196; 0.196; 0.195; 0.195; 0.195; 0.195; 0.194; 0.194; 0.194; 0.194; 0.510; 0.327; 0.308; 0.218; 0.204; 0.198; 0.197; 0.196; 0.196; 0.195; 0.195; 0.195; 0.195; 0.195; 0.194; 0.194; 0.194; 0.194; 0.510; 0.327; 0.309; 0.220; 0.204; 0.198; 0.197; 0.196; 0.196; 0.195; 0.195; 0.195; 0.195; 0.195; 0.194; 0.194; 0.194; 0.194; 0.510; 0.327; 0.310; 0.222; 0.204; 0.198; 0.197; 0.196; 0.196; 0.195; 0.195; 0.195; 0.195; 0.194; 0.194; 0.194; 0.194; 0.194; 0.510; 0.327; 0.310; 0.224; 0.204; 0.198; 0.197; 0.196; 0.196; 0.195; 0.195; 0.195; 0.195; 0.194; 0.194; 0.194; 0.194; 0.194; 0.510; 0.327; 0.311; 0.226; 0.204; 0.198; 0.197; 0.196; 0.196; 0.195; 0.195; 0.195; 0.195; 0.194; 0.194; 0.194; 0.194; 0.194; 0.510; 0.327; 0.312; 0.228; 0.204; 0.199; 0.197; 0.196; 0.196; 0.195; 0.195; 0.195; 0.194; 0.194; 0.194; 0.194; 0.194; 0.194; 0.510; 0.327; 0.313; 0.231; 0.204; 0.199; 0.197; 0.196; 0.196; 0.195; 0.195; 0.195; 0.194; 0.194; 0.194; 0.194; 0.194; 0.194; 0.510; 0.327; 0.314; 0.234; 0.204; 0.199; 0.197; 0.196; 0.196; 0.195; 0.195; 0.195; 0.194; 0.194; 0.194; 0.194; 0.194; 0.194; 0.510; 0.327; 0.314; 0.237; 0.204; 0.199; 0.197; 0.196; 0.196; 0.195; 0.195; 0.195; 0.194; 0.194; 0.194; 0.194; 0.194; 0.194; 0.510; 0.327; 0.315; 0.240; 0.204; 0.199; 0.197; 0.196; 0.196; 0.195; 0.195; 0.195; 0.194; 0.194; 0.194; 0.194; 0.194; 0.194; 0.510; 0.327; 0.316; 0.243; 0.204; 0.199; 0.197; 0.196; 0.196; 0.195; 0.195; 0.194; 0.194; 0.194; 0.194; 0.194; 0.194; 0.194; 0.510; 0.327; 0.316; 0.246; 0.204; 0.199; 0.197; 0.196; 0.196; 0.195; 0.195; 0.194; 0.194; 0.194; 0.194; 0.194; 0.194; 0.194; 0.510; 0.327; 0.317; 0.249; 0.204; 0.199; 0.197; 0.196; 0.196; 0.195; 0.195; 0.194; 0.194; 0.194; 0.194; 0.194; 0.194; 0.194; 0.510; 0.327; 0.318; 0.253; 0.204; 0.199; 0.197; 0.196; 0.195; 0.195; 0.195; 0.194; 0.194; 0.194; 0.194; 0.194; 0.194; 0.194; 0.510; 0.327; 0.318; 0.256; 0.205; 0.199; 0.197; 0.196; 0.195; 0.195; 0.195; 0.194; 0.194; 0.194; 0.194; 0.194; 0.194; 0.194; 0.510; 0.327; 0.319; 0.259; 0.205; 0.199; 0.197; 0.196; 0.195; 0.195; 0.195; 0.194; 0.194; 0.194; 0.194; 0.194; 0.194; 0.194; 0.510; 0.327; 0.319; 0.262; 0.205; 0.199; 0.197; 0.196; 0.195; 0.195; 0.195; 0.194; 0.194; 0.194; 0.194; 0.194; 0.194; 0.194; 0.510; 0.328; 0.320; 0.265; 0.205; 0.199; 0.197; 0.196; 0.195; 0.195; 0.195; 0.194; 0.194; 0.194; 0.194; 0.194; 0.194; 0.194; 0.510; 0.328; 0.320; 0.269; 0.206; 0.199; 0.197; 0.196; 0.195; 0.195; 0.195; 0.194; 0.194; 0.194; 0.194; 0.194; 0.194; 0.194; 0.510; 0.328; 0.320; 0.272; 0.206; 0.199; 0.197; 0.196; 0.195; 0.195; 0.195; 0.194; 0.194; 0.194; 0.194; 0.194; 0.194; 0.194; 0.510; 0.328; 0.321; 0.275; 0.206; 0.199; 0.197; 0.196; 0.195; 0.195; 0.195; 0.194; 0.194; 0.194; 0.194; 0.194; 0.194; 0.194; 0.510; 0.328; 0.321; 0.278; 0.207; 0.199; 0.197; 0.196; 0.195; 0.195; 0.194; 0.194; 0.194; 0.194; 0.194; 0.194; 0.194; 0.194; 0.510; 0.328; 0.321; 0.281; 0.207; 0.199; 0.197; 0.196; 0.195; 0.195; 0.194; 0.194; 0.194; 0.194; 0.194; 0.194; 0.194; 0.194; 0.510; 0.328; 0.322; 0.284; 0.208; 0.200; 0.196; 0.196; 0.195; 0.195; 0.194; 0.194; 0.194; 0.194; 0.194; 0.194; 0.194; 0.194; 0.510; 0.328; 0.322; 0.286; 0.208; 0.200; 0.196; 0.196; 0.195; 0.195; 0.194; 0.194; 0.194; 0.194; 0.194; 0.194; 0.194; 0.194; 0.510; 0.328; 0.322; 0.289; 0.209; 0.201; 0.196; 0.195; 0.195; 0.195; 0.194; 0.194; 0.194; 0.194; 0.194; 0.194; 0.194; 0.194; 0.510; 0.328; 0.323; 0.292; 0.210; 0.202; 0.196; 0.195; 0.195; 0.195; 0.194; 0.194; 0.194; 0.194; 0.194; 0.194; 0.194; 0.194; 0.510; 0.328; 0.323; 0.294; 0.210; 0.203; 0.196; 0.195; 0.195; 0.195; 0.194; 0.194; 0.194; 0.194; 0.194; 0.194; 0.194; 0.194; 0.510; 0.328; 0.323; 0.297; 0.211; 0.204; 0.196; 0.195; 0.195; 0.195; 0.194; 0.194; 0.194; 0.194; 0.194; 0.194; 0.194; 0.194; 0.510; 0.328; 0.324; 0.299; 0.212; 0.205; 0.196; 0.195; 0.195; 0.195; 0.194; 0.194; 0.194; 0.194; 0.194; 0.194; 0.194; 0.193; 0.510; 0.328; 0.324; 0.301; 0.213; 0.206; 0.197; 0.195; 0.195; 0.194; 0.194; 0.194; 0.194; 0.194; 0.194; 0.194; 0.194; 0.193; 0.510; 0.328; 0.324; 0.303; 0.214; 0.207; 0.197; 0.195; 0.195; 0.194; 0.194; 0.194; 0.194; 0.194; 0.194; 0.194; 0.194; 0.193; 0.510; 0.328; 0.324; 0.305; 0.216; 0.207; 0.198; 0.195; 0.195; 0.194; 0.194; 0.194; 0.194; 0.194; 0.194; 0.194; 0.193; 0.193; 0.510; 0.328; 0.324; 0.307; 0.218; 0.207; 0.198; 0.195; 0.195; 0.194; 0.194; 0.194; 0.194; 0.194; 0.194; 0.194; 0.193; 0.193; 0.510; 0.328; 0.325; 0.308; 0.220; 0.207; 0.199; 0.195; 0.195; 0.194; 0.194; 0.194; 0.194; 0.194; 0.194; 0.193; 0.193; 0.193; 0.510; 0.328; 0.325; 0.310; 0.223; 0.207; 0.198; 0.195; 0.195; 0.194; 0.194; 0.194; 0.194; 0.194; 0.194; 0.193; 0.193; 0.193; 0.510; 0.328; 0.325; 0.311; 0.226; 0.207; 0.198; 0.196; 0.195; 0.194; 0.194; 0.194; 0.194; 0.194; 0.194; 0.193; 0.193; 0.193; 0.510; 0.328; 0.325; 0.313; 0.230; 0.206; 0.198; 0.196; 0.195; 0.195; 0.194; 0.194; 0.194; 0.194; 0.194; 0.193; 0.193; 0.193; 0.510; 0.328; 0.325; 0.314; 0.235; 0.206; 0.198; 0.196; 0.195; 0.195; 0.194; 0.194; 0.194; 0.194; 0.194; 0.193; 0.193; 0.193; 0.510; 0.328; 0.325; 0.315; 0.239; 0.206; 0.198; 0.196; 0.195; 0.195; 0.194; 0.194; 0.194; 0.194; 0.194; 0.193; 0.193; 0.193; 0.510; 0.328; 0.326; 0.316; 0.244; 0.206; 0.198; 0.196; 0.195; 0.195; 0.194; 0.194; 0.194; 0.194; 0.194; 0.193; 0.193; 0.193; 0.510; 0.328; 0.326; 0.317; 0.249; 0.207; 0.198; 0.196; 0.195; 0.195; 0.194; 0.194; 0.194; 0.194; 0.193; 0.193; 0.193; 0.193; 0.510; 0.328; 0.326; 0.318; 0.254; 0.208; 0.199; 0.196; 0.195; 0.194; 0.194; 0.194; 0.194; 0.194; 0.193; 0.193; 0.193; 0.193; 0.510; 0.328; 0.326; 0.319; 0.259; 0.208; 0.200; 0.195; 0.195; 0.194; 0.194; 0.194; 0.194; 0.194; 0.193; 0.193; 0.193; 0.193; 0.510; 0.328; 0.326; 0.319; 0.263; 0.209; 0.201; 0.195; 0.195; 0.194; 0.194; 0.194; 0.194; 0.194; 0.193; 0.193; 0.193; 0.193; 0.510; 0.328; 0.326; 0.320; 0.268; 0.209; 0.202; 0.195; 0.195; 0.194; 0.194; 0.194; 0.194; 0.194; 0.193; 0.193; 0.193; 0.193; 0.510; 0.328; 0.326; 0.321; 0.272; 0.210; 0.203; 0.195; 0.195; 0.194; 0.194; 0.194; 0.194; 0.194; 0.193; 0.193; 0.193; 0.193; 0.510; 0.328; 0.326; 0.321; 0.276; 0.210; 0.204; 0.195; 0.195; 0.194; 0.194; 0.194; 0.194; 0.194; 0.193; 0.193; 0.193; 0.193; 0.510; 0.328; 0.326; 0.322; 0.281; 0.211; 0.204; 0.195; 0.195; 0.194; 0.194; 0.194; 0.194; 0.193; 0.193; 0.193; 0.193; 0.193; 0.510; 0.328; 0.326; 0.322; 0.285; 0.211; 0.205; 0.196; 0.195; 0.194; 0.194; 0.194; 0.194; 0.193; 0.193; 0.193; 0.193; 0.193; 0.510; 0.328; 0.327; 0.323; 0.289; 0.211; 0.205; 0.196; 0.194; 0.194; 0.194; 0.194; 0.194; 0.193; 0.193; 0.193; 0.193; 0.193; 0.510; 0.328; 0.327; 0.323; 0.292; 0.212; 0.206; 0.197; 0.194; 0.194; 0.194; 0.194; 0.194; 0.193; 0.193; 0.193; 0.193; 0.193; 0.510; 0.328; 0.327; 0.323; 0.296; 0.213; 0.207; 0.198; 0.194; 0.194; 0.194; 0.194; 0.194; 0.193; 0.193; 0.193; 0.193; 0.193; 0.510; 0.328; 0.327; 0.324; 0.299; 0.214; 0.208; 0.199; 0.194; 0.194; 0.194; 0.194; 0.194; 0.193; 0.193; 0.193; 0.193; 0.193; 0.510; 0.328; 0.327; 0.324; 0.302; 0.215; 0.209; 0.200; 0.194; 0.194; 0.194; 0.194; 0.194; 0.193; 0.193; 0.193; 0.193; 0.193; 0.510; 0.328; 0.327; 0.324; 0.305; 0.217; 0.210; 0.201; 0.194; 0.194; 0.194; 0.194; 0.194; 0.193; 0.193; 0.193; 0.193; 0.193; 0.510; 0.328; 0.327; 0.324; 0.308; 0.220; 0.209; 0.201; 0.194; 0.194; 0.194; 0.194; 0.194; 0.193; 0.193; 0.193; 0.193; 0.193; 0.510; 0.328; 0.327; 0.325; 0.310; 0.224; 0.209; 0.200; 0.195; 0.194; 0.194; 0.194; 0.194; 0.193; 0.193; 0.193; 0.193; 0.193; 0.510; 0.328; 0.327; 0.325; 0.312; 0.229; 0.208; 0.199; 0.195; 0.194; 0.194; 0.194; 0.194; 0.193; 0.193; 0.193; 0.193; 0.193; 0.510; 0.328; 0.327; 0.325; 0.314; 0.236; 0.207; 0.198; 0.195; 0.194; 0.194; 0.194; 0.194; 0.193; 0.193; 0.193; 0.193; 0.193; 0.510; 0.328; 0.327; 0.325; 0.315; 0.243; 0.208; 0.198; 0.195; 0.194; 0.194; 0.194; 0.194; 0.193; 0.193; 0.193; 0.193; 0.193; 0.510; 0.328; 0.327; 0.326; 0.317; 0.250; 0.209; 0.200; 0.195; 0.194; 0.194; 0.194; 0.194; 0.193; 0.193; 0.193; 0.193; 0.193; 0.510; 0.328; 0.327; 0.326; 0.318; 0.256; 0.210; 0.203; 0.195; 0.194; 0.194; 0.194; 0.194; 0.193; 0.193; 0.193; 0.193; 0.193; 0.510; 0.328; 0.327; 0.326; 0.319; 0.262; 0.211; 0.206; 0.196; 0.194; 0.194; 0.194; 0.193; 0.193; 0.193; 0.193; 0.193; 0.193; 0.510; 0.328; 0.327; 0.326; 0.320; 0.268; 0.212; 0.207; 0.198; 0.194; 0.194; 0.194; 0.193; 0.193; 0.193; 0.193; 0.193; 0.193; 0.510; 0.328; 0.327; 0.326; 0.321; 0.274; 0.212; 0.208; 0.199; 0.194; 0.194; 0.193; 0.193; 0.193; 0.193; 0.193; 0.193; 0.193; 0.510; 0.328; 0.327; 0.326; 0.322; 0.279; 0.212; 0.208; 0.199; 0.194; 0.194; 0.193; 0.193; 0.193; 0.193; 0.193; 0.193; 0.193; 0.510; 0.328; 0.327; 0.326; 0.322; 0.284; 0.213; 0.209; 0.199; 0.194; 0.194; 0.193; 0.193; 0.193; 0.193; 0.193; 0.193; 0.193; 0.510; 0.328; 0.327; 0.326; 0.323; 0.290; 0.213; 0.209; 0.200; 0.194; 0.194; 0.193; 0.193; 0.193; 0.193; 0.193; 0.193; 0.193; 0.510; 0.328; 0.328; 0.327; 0.323; 0.295; 0.214; 0.210; 0.201; 0.194; 0.194; 0.193; 0.193; 0.193; 0.193; 0.193; 0.193; 0.193; 0.510; 0.328; 0.328; 0.327; 0.324; 0.299; 0.215; 0.210; 0.203; 0.194; 0.194; 0.193; 0.193; 0.193; 0.193; 0.193; 0.193; 0.193; 0.510; 0.328; 0.328; 0.327; 0.324; 0.303; 0.217; 0.211; 0.204; 0.194; 0.194; 0.193; 0.193; 0.193; 0.193; 0.193; 0.193; 0.193; 0.510; 0.328; 0.328; 0.327; 0.325; 0.307; 0.220; 0.210; 0.204; 0.195; 0.194; 0.194; 0.193; 0.193; 0.193; 0.193; 0.193; 0.193; 0.510; 0.328; 0.328; 0.327; 0.325; 0.310; 0.225; 0.210; 0.202; 0.194; 0.194; 0.194; 0.193; 0.193; 0.193; 0.193; 0.193; 0.193; 0.510; 0.328; 0.328; 0.327; 0.325; 0.313; 0.232; 0.208; 0.199; 0.194; 0.194; 0.194; 0.194; 0.193; 0.193; 0.193; 0.193; 0.193; 0.510; 0.328; 0.328; 0.327; 0.325; 0.315; 0.242; 0.208; 0.199; 0.194; 0.194; 0.194; 0.194; 0.193; 0.193; 0.193; 0.193; 0.193; 0.510; 0.328; 0.328; 0.327; 0.326; 0.317; 0.251; 0.210; 0.202; 0.194; 0.194; 0.194; 0.193; 0.193; 0.193; 0.193; 0.193; 0.193; 0.510; 0.328; 0.328; 0.327; 0.326; 0.318; 0.259; 0.212; 0.207; 0.197; 0.194; 0.193; 0.193; 0.193; 0.193; 0.193; 0.193; 0.193; 0.510; 0.328; 0.328; 0.327; 0.326; 0.320; 0.266; 0.213; 0.210; 0.203; 0.194; 0.193; 0.193; 0.193; 0.193; 0.193; 0.193; 0.193; 0.510; 0.328; 0.328; 0.327; 0.326; 0.321; 0.273; 0.213; 0.211; 0.205; 0.195; 0.193; 0.193; 0.193; 0.193; 0.193; 0.193; 0.193; 0.510; 0.328; 0.328; 0.327; 0.326; 0.322; 0.280; 0.214; 0.211; 0.205; 0.195; 0.193; 0.193; 0.193; 0.193; 0.193; 0.193; 0.193; 0.510; 0.328; 0.328; 0.327; 0.326; 0.323; 0.286; 0.214; 0.211; 0.204; 0.194; 0.193; 0.193; 0.193; 0.193; 0.193; 0.193; 0.193; 0.510; 0.328; 0.328; 0.327; 0.327; 0.323; 0.293; 0.214; 0.211; 0.204; 0.194; 0.193; 0.193; 0.193; 0.193; 0.193; 0.193; 0.193; 0.510; 0.328; 0.328; 0.327; 0.327; 0.324; 0.299; 0.215; 0.211; 0.205; 0.195; 0.193; 0.193; 0.193; 0.193; 0.193; 0.193; 0.193; 0.510; 0.328; 0.328; 0.327; 0.327; 0.324; 0.304; 0.218; 0.211; 0.206; 0.196; 0.193; 0.193; 0.193; 0.193; 0.193; 0.193; 0.193; 0.510; 0.328; 0.328; 0.328; 0.327; 0.325; 0.309; 0.223; 0.211; 0.204; 0.194; 0.194; 0.193; 0.193; 0.193; 0.193; 0.193; 0.193; 0.510; 0.328; 0.328; 0.328; 0.327; 0.325; 0.312; 0.231; 0.209; 0.200; 0.194; 0.194; 0.193; 0.193; 0.193; 0.193; 0.193; 0.193; 0.510; 0.328; 0.328; 0.328; 0.327; 0.325; 0.315; 0.243; 0.209; 0.200; 0.194; 0.194; 0.194; 0.193; 0.193; 0.193; 0.193; 0.193; 0.510; 0.328; 0.328; 0.328; 0.327; 0.326; 0.317; 0.254; 0.211; 0.206; 0.196; 0.194; 0.193; 0.193; 0.193; 0.193; 0.193; 0.193; "
     ]
    },
    {
     "data": {
      "text/plain": [
       "[tensor(0.3315),\n",
       " tensor(0.7921),\n",
       " tensor(0.8258),\n",
       " tensor(0.7978),\n",
       " tensor(0.7921),\n",
       " tensor(0.7921),\n",
       " tensor(0.7921),\n",
       " tensor(0.7921),\n",
       " tensor(0.7921),\n",
       " tensor(0.7921),\n",
       " tensor(0.7921),\n",
       " tensor(0.7921),\n",
       " tensor(0.7921),\n",
       " tensor(0.7978),\n",
       " tensor(0.8034),\n",
       " tensor(0.8202),\n",
       " tensor(0.8258),\n",
       " tensor(0.8258),\n",
       " tensor(0.8315),\n",
       " tensor(0.8258),\n",
       " tensor(0.8258),\n",
       " tensor(0.8258),\n",
       " tensor(0.8258),\n",
       " tensor(0.8258),\n",
       " tensor(0.8258),\n",
       " tensor(0.8258),\n",
       " tensor(0.8258),\n",
       " tensor(0.8258),\n",
       " tensor(0.8258),\n",
       " tensor(0.8258),\n",
       " tensor(0.8258),\n",
       " tensor(0.8258),\n",
       " tensor(0.8258),\n",
       " tensor(0.8258),\n",
       " tensor(0.8258),\n",
       " tensor(0.8258),\n",
       " tensor(0.8258),\n",
       " tensor(0.8258),\n",
       " tensor(0.8258),\n",
       " tensor(0.8258),\n",
       " tensor(0.8258),\n",
       " tensor(0.8258),\n",
       " tensor(0.8258),\n",
       " tensor(0.8258),\n",
       " tensor(0.8258),\n",
       " tensor(0.8258),\n",
       " tensor(0.8258),\n",
       " tensor(0.8258),\n",
       " tensor(0.8258),\n",
       " tensor(0.8258),\n",
       " tensor(0.8258),\n",
       " tensor(0.8258),\n",
       " tensor(0.8258),\n",
       " tensor(0.8258),\n",
       " tensor(0.8258),\n",
       " tensor(0.8258),\n",
       " tensor(0.8258),\n",
       " tensor(0.8258),\n",
       " tensor(0.8258),\n",
       " tensor(0.8258),\n",
       " tensor(0.8258),\n",
       " tensor(0.8258),\n",
       " tensor(0.8258),\n",
       " tensor(0.8258),\n",
       " tensor(0.8258),\n",
       " tensor(0.8258),\n",
       " tensor(0.8258),\n",
       " tensor(0.8258),\n",
       " tensor(0.8258),\n",
       " tensor(0.8258),\n",
       " tensor(0.8258),\n",
       " tensor(0.8258),\n",
       " tensor(0.8258),\n",
       " tensor(0.8258),\n",
       " tensor(0.8258),\n",
       " tensor(0.8258),\n",
       " tensor(0.8258),\n",
       " tensor(0.8258),\n",
       " tensor(0.8258),\n",
       " tensor(0.8258),\n",
       " tensor(0.8258),\n",
       " tensor(0.8258),\n",
       " tensor(0.8258),\n",
       " tensor(0.8258),\n",
       " tensor(0.8258),\n",
       " tensor(0.8258),\n",
       " tensor(0.8258),\n",
       " tensor(0.8258),\n",
       " tensor(0.8258),\n",
       " tensor(0.8258),\n",
       " tensor(0.8258),\n",
       " tensor(0.8258),\n",
       " tensor(0.8258),\n",
       " tensor(0.8258),\n",
       " tensor(0.8258),\n",
       " tensor(0.8258),\n",
       " tensor(0.8258),\n",
       " tensor(0.8258),\n",
       " tensor(0.8258),\n",
       " tensor(0.8258),\n",
       " tensor(0.8258),\n",
       " tensor(0.8258),\n",
       " tensor(0.8258),\n",
       " tensor(0.8258),\n",
       " tensor(0.8258),\n",
       " tensor(0.8258),\n",
       " tensor(0.8258),\n",
       " tensor(0.8258),\n",
       " tensor(0.8258),\n",
       " tensor(0.8258),\n",
       " tensor(0.8258),\n",
       " tensor(0.8258),\n",
       " tensor(0.8258),\n",
       " tensor(0.8258),\n",
       " tensor(0.8258),\n",
       " tensor(0.8258),\n",
       " tensor(0.8258),\n",
       " tensor(0.8258),\n",
       " tensor(0.8258),\n",
       " tensor(0.8258),\n",
       " tensor(0.8258),\n",
       " tensor(0.8258),\n",
       " tensor(0.8258),\n",
       " tensor(0.8258),\n",
       " tensor(0.8258),\n",
       " tensor(0.8258),\n",
       " tensor(0.8258),\n",
       " tensor(0.8258),\n",
       " tensor(0.8258),\n",
       " tensor(0.8258),\n",
       " tensor(0.8258),\n",
       " tensor(0.8258),\n",
       " tensor(0.8258),\n",
       " tensor(0.8258),\n",
       " tensor(0.8258),\n",
       " tensor(0.8258),\n",
       " tensor(0.8258),\n",
       " tensor(0.8258),\n",
       " tensor(0.8258),\n",
       " tensor(0.8258),\n",
       " tensor(0.8258),\n",
       " tensor(0.8258),\n",
       " tensor(0.8258),\n",
       " tensor(0.8258),\n",
       " tensor(0.8258),\n",
       " tensor(0.8258),\n",
       " tensor(0.8258),\n",
       " tensor(0.8258),\n",
       " tensor(0.8258),\n",
       " tensor(0.8258),\n",
       " tensor(0.8258),\n",
       " tensor(0.8258),\n",
       " tensor(0.8258),\n",
       " tensor(0.8258),\n",
       " tensor(0.8258),\n",
       " tensor(0.8258),\n",
       " tensor(0.8258),\n",
       " tensor(0.8258),\n",
       " tensor(0.8258),\n",
       " tensor(0.8258),\n",
       " tensor(0.8258),\n",
       " tensor(0.8258),\n",
       " tensor(0.8258),\n",
       " tensor(0.8258),\n",
       " tensor(0.8258),\n",
       " tensor(0.8258),\n",
       " tensor(0.8258),\n",
       " tensor(0.8258),\n",
       " tensor(0.8258),\n",
       " tensor(0.8258),\n",
       " tensor(0.8258),\n",
       " tensor(0.8258),\n",
       " tensor(0.8258),\n",
       " tensor(0.8258),\n",
       " tensor(0.8258),\n",
       " tensor(0.8258),\n",
       " tensor(0.8258),\n",
       " tensor(0.8258),\n",
       " tensor(0.8258),\n",
       " tensor(0.8258),\n",
       " tensor(0.8258),\n",
       " tensor(0.8258),\n",
       " tensor(0.8258),\n",
       " tensor(0.8258),\n",
       " tensor(0.8258),\n",
       " tensor(0.8258),\n",
       " tensor(0.8258),\n",
       " tensor(0.8258),\n",
       " tensor(0.8258),\n",
       " tensor(0.8258),\n",
       " tensor(0.8258),\n",
       " tensor(0.8258),\n",
       " tensor(0.8258),\n",
       " tensor(0.8258),\n",
       " tensor(0.8258),\n",
       " tensor(0.8258),\n",
       " tensor(0.8258),\n",
       " tensor(0.8258),\n",
       " tensor(0.8258),\n",
       " tensor(0.8258)]"
      ]
     },
     "execution_count": 23,
     "metadata": {},
     "output_type": "execute_result"
    }
   ],
   "source": [
    "err = []\n",
    "for i in range(200):\n",
    "    err.append(acc(train_model(18, lr=i)))\n",
    "\n",
    "err"
   ]
  },
  {
   "cell_type": "markdown",
   "id": "2b5398cf",
   "metadata": {
    "papermill": {
     "duration": 0.006553,
     "end_time": "2025-06-04T04:20:47.144656",
     "exception": false,
     "start_time": "2025-06-04T04:20:47.138103",
     "status": "completed"
    },
    "tags": []
   },
   "source": [
    "Now submit:"
   ]
  },
  {
   "cell_type": "code",
   "execution_count": 24,
   "id": "00d07aeb",
   "metadata": {
    "execution": {
     "iopub.execute_input": "2025-06-04T04:20:47.158771Z",
     "iopub.status.busy": "2025-06-04T04:20:47.158508Z",
     "iopub.status.idle": "2025-06-04T04:20:47.188790Z",
     "shell.execute_reply": "2025-06-04T04:20:47.187809Z"
    },
    "papermill": {
     "duration": 0.038899,
     "end_time": "2025-06-04T04:20:47.190023",
     "exception": false,
     "start_time": "2025-06-04T04:20:47.151124",
     "status": "completed"
    },
    "tags": []
   },
   "outputs": [],
   "source": [
    "tst_df = pd.read_csv(path/'test.csv')\n",
    "tst_df['Fare'] = tst_df.Fare.fillna(0)\n",
    "tst_df.fillna(modes, inplace=True)\n",
    "tst_df['LogFare'] = np.log(tst_df['Fare']+1)\n",
    "tst_df = pd.get_dummies(tst_df, columns=[\"Sex\",\"Pclass\",\"Embarked\"])\n",
    "\n",
    "tst_df[indep_cols] = tst_df[indep_cols].astype({col: 'int' for col in tst_df[indep_cols].select_dtypes('bool').columns})\n",
    "tst_indep = tensor(tst_df[indep_cols].values, dtype=torch.float)\n",
    "tst_indep = tst_indep / vals\n",
    "tst_df['Survived'] = (calc_preds(tst_indep, coeffs)>0.5).int()\n",
    "sub_df = tst_df[['PassengerId','Survived']]\n",
    "sub_df.to_csv('sub.csv', index=False)"
   ]
  }
 ],
 "metadata": {
  "kaggle": {
   "accelerator": "gpu",
   "dataSources": [
    {
     "databundleVersionId": 26502,
     "sourceId": 3136,
     "sourceType": "competition"
    }
   ],
   "dockerImageVersionId": 31041,
   "isGpuEnabled": true,
   "isInternetEnabled": true,
   "language": "python",
   "sourceType": "notebook"
  },
  "kernelspec": {
   "display_name": "Python 3",
   "language": "python",
   "name": "python3"
  },
  "language_info": {
   "codemirror_mode": {
    "name": "ipython",
    "version": 3
   },
   "file_extension": ".py",
   "mimetype": "text/x-python",
   "name": "python",
   "nbconvert_exporter": "python",
   "pygments_lexer": "ipython3",
   "version": "3.11.11"
  },
  "papermill": {
   "default_parameters": {},
   "duration": 18.313293,
   "end_time": "2025-06-04T04:20:50.120842",
   "environment_variables": {},
   "exception": null,
   "input_path": "__notebook__.ipynb",
   "output_path": "__notebook__.ipynb",
   "parameters": {},
   "start_time": "2025-06-04T04:20:31.807549",
   "version": "2.6.0"
  }
 },
 "nbformat": 4,
 "nbformat_minor": 5
}
